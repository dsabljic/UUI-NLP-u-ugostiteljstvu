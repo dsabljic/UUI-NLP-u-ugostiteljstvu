{
  "nbformat": 4,
  "nbformat_minor": 0,
  "metadata": {
    "colab": {
      "provenance": []
    },
    "kernelspec": {
      "name": "python3",
      "display_name": "Python 3"
    },
    "language_info": {
      "name": "python"
    }
  },
  "cells": [
    {
      "cell_type": "markdown",
      "source": [
        "# Obrada prirodnog jezika za razumijevanje povratnih informacija klijenata u ugostiteljskoj industriji"
      ],
      "metadata": {
        "id": "CB9KFnEaE8YU"
      }
    },
    {
      "cell_type": "markdown",
      "source": [
        "// TODO\n",
        "- probat samo stemming ne stopword removal za treniranje\n",
        "- ostavit staru preprocess funkciju za nove tekstove\n",
        "- spremit model na github"
      ],
      "metadata": {
        "id": "idRI9fd4M_Wq"
      }
    },
    {
      "cell_type": "markdown",
      "source": [
        "## Potrebni moduli"
      ],
      "metadata": {
        "id": "Xb0yYHshOHEi"
      }
    },
    {
      "cell_type": "code",
      "execution_count": null,
      "metadata": {
        "id": "4HMHsJKcr9YZ"
      },
      "outputs": [],
      "source": [
        "import re\n",
        "import os\n",
        "from collections import Counter\n",
        "\n",
        "import pandas as pd\n",
        "import numpy as np\n",
        "import seaborn as sns\n",
        "import matplotlib.pyplot as plt\n",
        "\n",
        "import nltk\n",
        "from nltk import tokenize\n",
        "from nltk.corpus import stopwords\n",
        "from sklearn.feature_extraction.text import CountVectorizer"
      ]
    },
    {
      "cell_type": "code",
      "source": [
        "nltk.download('stopwords')"
      ],
      "metadata": {
        "colab": {
          "base_uri": "https://localhost:8080/"
        },
        "id": "gv0zbCjf1Cy4",
        "outputId": "687080cf-3436-475e-a1be-4447949f8a78"
      },
      "execution_count": null,
      "outputs": [
        {
          "output_type": "stream",
          "name": "stderr",
          "text": [
            "[nltk_data] Downloading package stopwords to /root/nltk_data...\n",
            "[nltk_data]   Unzipping corpora/stopwords.zip.\n"
          ]
        },
        {
          "output_type": "execute_result",
          "data": {
            "text/plain": [
              "True"
            ]
          },
          "metadata": {},
          "execution_count": 2
        }
      ]
    },
    {
      "cell_type": "markdown",
      "source": [
        "## Učitavanje podataka"
      ],
      "metadata": {
        "id": "rN3_XtoGOKS7"
      }
    },
    {
      "cell_type": "code",
      "source": [
        "# Za prikazivanje cijelih komentara postaviti na 0\n",
        "pd.set_option(\"max_colwidth\", 100)"
      ],
      "metadata": {
        "id": "n6P6qZuZhJIk"
      },
      "execution_count": null,
      "outputs": []
    },
    {
      "cell_type": "code",
      "source": [
        "df = pd.read_csv('https://raw.githubusercontent.com/dsabljic/UUI-NLP-u-ugostiteljstvu/master/data/tripadvisor_hotel_reviews.csv')\n",
        "df.head()"
      ],
      "metadata": {
        "colab": {
          "base_uri": "https://localhost:8080/",
          "height": 206
        },
        "id": "_MrAmRx3sVNB",
        "outputId": "de5884a7-898b-4d31-ec12-8c69bc37d703"
      },
      "execution_count": null,
      "outputs": [
        {
          "output_type": "execute_result",
          "data": {
            "text/plain": [
              "                                                                                                Review  \\\n",
              "0  nice hotel expensive parking got good deal stay hotel anniversary, arrived late evening took adv...   \n",
              "1  ok nothing special charge diamond member hilton decided chain shot 20th anniversary seattle, sta...   \n",
              "2  nice rooms not 4* experience hotel monaco seattle good hotel n't 4* level.positives large bathro...   \n",
              "3  unique, great stay, wonderful time hotel monaco, location excellent short stroll main downtown s...   \n",
              "4  great stay great stay, went seahawk game awesome, downfall view building did n't complain, room ...   \n",
              "\n",
              "   Rating  \n",
              "0       4  \n",
              "1       2  \n",
              "2       3  \n",
              "3       5  \n",
              "4       5  "
            ],
            "text/html": [
              "\n",
              "  <div id=\"df-c48e93c0-9b0e-455b-be49-d3de7ffa58a1\" class=\"colab-df-container\">\n",
              "    <div>\n",
              "<style scoped>\n",
              "    .dataframe tbody tr th:only-of-type {\n",
              "        vertical-align: middle;\n",
              "    }\n",
              "\n",
              "    .dataframe tbody tr th {\n",
              "        vertical-align: top;\n",
              "    }\n",
              "\n",
              "    .dataframe thead th {\n",
              "        text-align: right;\n",
              "    }\n",
              "</style>\n",
              "<table border=\"1\" class=\"dataframe\">\n",
              "  <thead>\n",
              "    <tr style=\"text-align: right;\">\n",
              "      <th></th>\n",
              "      <th>Review</th>\n",
              "      <th>Rating</th>\n",
              "    </tr>\n",
              "  </thead>\n",
              "  <tbody>\n",
              "    <tr>\n",
              "      <th>0</th>\n",
              "      <td>nice hotel expensive parking got good deal stay hotel anniversary, arrived late evening took adv...</td>\n",
              "      <td>4</td>\n",
              "    </tr>\n",
              "    <tr>\n",
              "      <th>1</th>\n",
              "      <td>ok nothing special charge diamond member hilton decided chain shot 20th anniversary seattle, sta...</td>\n",
              "      <td>2</td>\n",
              "    </tr>\n",
              "    <tr>\n",
              "      <th>2</th>\n",
              "      <td>nice rooms not 4* experience hotel monaco seattle good hotel n't 4* level.positives large bathro...</td>\n",
              "      <td>3</td>\n",
              "    </tr>\n",
              "    <tr>\n",
              "      <th>3</th>\n",
              "      <td>unique, great stay, wonderful time hotel monaco, location excellent short stroll main downtown s...</td>\n",
              "      <td>5</td>\n",
              "    </tr>\n",
              "    <tr>\n",
              "      <th>4</th>\n",
              "      <td>great stay great stay, went seahawk game awesome, downfall view building did n't complain, room ...</td>\n",
              "      <td>5</td>\n",
              "    </tr>\n",
              "  </tbody>\n",
              "</table>\n",
              "</div>\n",
              "    <div class=\"colab-df-buttons\">\n",
              "\n",
              "  <div class=\"colab-df-container\">\n",
              "    <button class=\"colab-df-convert\" onclick=\"convertToInteractive('df-c48e93c0-9b0e-455b-be49-d3de7ffa58a1')\"\n",
              "            title=\"Convert this dataframe to an interactive table.\"\n",
              "            style=\"display:none;\">\n",
              "\n",
              "  <svg xmlns=\"http://www.w3.org/2000/svg\" height=\"24px\" viewBox=\"0 -960 960 960\">\n",
              "    <path d=\"M120-120v-720h720v720H120Zm60-500h600v-160H180v160Zm220 220h160v-160H400v160Zm0 220h160v-160H400v160ZM180-400h160v-160H180v160Zm440 0h160v-160H620v160ZM180-180h160v-160H180v160Zm440 0h160v-160H620v160Z\"/>\n",
              "  </svg>\n",
              "    </button>\n",
              "\n",
              "  <style>\n",
              "    .colab-df-container {\n",
              "      display:flex;\n",
              "      gap: 12px;\n",
              "    }\n",
              "\n",
              "    .colab-df-convert {\n",
              "      background-color: #E8F0FE;\n",
              "      border: none;\n",
              "      border-radius: 50%;\n",
              "      cursor: pointer;\n",
              "      display: none;\n",
              "      fill: #1967D2;\n",
              "      height: 32px;\n",
              "      padding: 0 0 0 0;\n",
              "      width: 32px;\n",
              "    }\n",
              "\n",
              "    .colab-df-convert:hover {\n",
              "      background-color: #E2EBFA;\n",
              "      box-shadow: 0px 1px 2px rgba(60, 64, 67, 0.3), 0px 1px 3px 1px rgba(60, 64, 67, 0.15);\n",
              "      fill: #174EA6;\n",
              "    }\n",
              "\n",
              "    .colab-df-buttons div {\n",
              "      margin-bottom: 4px;\n",
              "    }\n",
              "\n",
              "    [theme=dark] .colab-df-convert {\n",
              "      background-color: #3B4455;\n",
              "      fill: #D2E3FC;\n",
              "    }\n",
              "\n",
              "    [theme=dark] .colab-df-convert:hover {\n",
              "      background-color: #434B5C;\n",
              "      box-shadow: 0px 1px 3px 1px rgba(0, 0, 0, 0.15);\n",
              "      filter: drop-shadow(0px 1px 2px rgba(0, 0, 0, 0.3));\n",
              "      fill: #FFFFFF;\n",
              "    }\n",
              "  </style>\n",
              "\n",
              "    <script>\n",
              "      const buttonEl =\n",
              "        document.querySelector('#df-c48e93c0-9b0e-455b-be49-d3de7ffa58a1 button.colab-df-convert');\n",
              "      buttonEl.style.display =\n",
              "        google.colab.kernel.accessAllowed ? 'block' : 'none';\n",
              "\n",
              "      async function convertToInteractive(key) {\n",
              "        const element = document.querySelector('#df-c48e93c0-9b0e-455b-be49-d3de7ffa58a1');\n",
              "        const dataTable =\n",
              "          await google.colab.kernel.invokeFunction('convertToInteractive',\n",
              "                                                    [key], {});\n",
              "        if (!dataTable) return;\n",
              "\n",
              "        const docLinkHtml = 'Like what you see? Visit the ' +\n",
              "          '<a target=\"_blank\" href=https://colab.research.google.com/notebooks/data_table.ipynb>data table notebook</a>'\n",
              "          + ' to learn more about interactive tables.';\n",
              "        element.innerHTML = '';\n",
              "        dataTable['output_type'] = 'display_data';\n",
              "        await google.colab.output.renderOutput(dataTable, element);\n",
              "        const docLink = document.createElement('div');\n",
              "        docLink.innerHTML = docLinkHtml;\n",
              "        element.appendChild(docLink);\n",
              "      }\n",
              "    </script>\n",
              "  </div>\n",
              "\n",
              "\n",
              "<div id=\"df-4e0e25c5-8fdc-46d6-83f3-65c5f82b8e60\">\n",
              "  <button class=\"colab-df-quickchart\" onclick=\"quickchart('df-4e0e25c5-8fdc-46d6-83f3-65c5f82b8e60')\"\n",
              "            title=\"Suggest charts\"\n",
              "            style=\"display:none;\">\n",
              "\n",
              "<svg xmlns=\"http://www.w3.org/2000/svg\" height=\"24px\"viewBox=\"0 0 24 24\"\n",
              "     width=\"24px\">\n",
              "    <g>\n",
              "        <path d=\"M19 3H5c-1.1 0-2 .9-2 2v14c0 1.1.9 2 2 2h14c1.1 0 2-.9 2-2V5c0-1.1-.9-2-2-2zM9 17H7v-7h2v7zm4 0h-2V7h2v10zm4 0h-2v-4h2v4z\"/>\n",
              "    </g>\n",
              "</svg>\n",
              "  </button>\n",
              "\n",
              "<style>\n",
              "  .colab-df-quickchart {\n",
              "      --bg-color: #E8F0FE;\n",
              "      --fill-color: #1967D2;\n",
              "      --hover-bg-color: #E2EBFA;\n",
              "      --hover-fill-color: #174EA6;\n",
              "      --disabled-fill-color: #AAA;\n",
              "      --disabled-bg-color: #DDD;\n",
              "  }\n",
              "\n",
              "  [theme=dark] .colab-df-quickchart {\n",
              "      --bg-color: #3B4455;\n",
              "      --fill-color: #D2E3FC;\n",
              "      --hover-bg-color: #434B5C;\n",
              "      --hover-fill-color: #FFFFFF;\n",
              "      --disabled-bg-color: #3B4455;\n",
              "      --disabled-fill-color: #666;\n",
              "  }\n",
              "\n",
              "  .colab-df-quickchart {\n",
              "    background-color: var(--bg-color);\n",
              "    border: none;\n",
              "    border-radius: 50%;\n",
              "    cursor: pointer;\n",
              "    display: none;\n",
              "    fill: var(--fill-color);\n",
              "    height: 32px;\n",
              "    padding: 0;\n",
              "    width: 32px;\n",
              "  }\n",
              "\n",
              "  .colab-df-quickchart:hover {\n",
              "    background-color: var(--hover-bg-color);\n",
              "    box-shadow: 0 1px 2px rgba(60, 64, 67, 0.3), 0 1px 3px 1px rgba(60, 64, 67, 0.15);\n",
              "    fill: var(--button-hover-fill-color);\n",
              "  }\n",
              "\n",
              "  .colab-df-quickchart-complete:disabled,\n",
              "  .colab-df-quickchart-complete:disabled:hover {\n",
              "    background-color: var(--disabled-bg-color);\n",
              "    fill: var(--disabled-fill-color);\n",
              "    box-shadow: none;\n",
              "  }\n",
              "\n",
              "  .colab-df-spinner {\n",
              "    border: 2px solid var(--fill-color);\n",
              "    border-color: transparent;\n",
              "    border-bottom-color: var(--fill-color);\n",
              "    animation:\n",
              "      spin 1s steps(1) infinite;\n",
              "  }\n",
              "\n",
              "  @keyframes spin {\n",
              "    0% {\n",
              "      border-color: transparent;\n",
              "      border-bottom-color: var(--fill-color);\n",
              "      border-left-color: var(--fill-color);\n",
              "    }\n",
              "    20% {\n",
              "      border-color: transparent;\n",
              "      border-left-color: var(--fill-color);\n",
              "      border-top-color: var(--fill-color);\n",
              "    }\n",
              "    30% {\n",
              "      border-color: transparent;\n",
              "      border-left-color: var(--fill-color);\n",
              "      border-top-color: var(--fill-color);\n",
              "      border-right-color: var(--fill-color);\n",
              "    }\n",
              "    40% {\n",
              "      border-color: transparent;\n",
              "      border-right-color: var(--fill-color);\n",
              "      border-top-color: var(--fill-color);\n",
              "    }\n",
              "    60% {\n",
              "      border-color: transparent;\n",
              "      border-right-color: var(--fill-color);\n",
              "    }\n",
              "    80% {\n",
              "      border-color: transparent;\n",
              "      border-right-color: var(--fill-color);\n",
              "      border-bottom-color: var(--fill-color);\n",
              "    }\n",
              "    90% {\n",
              "      border-color: transparent;\n",
              "      border-bottom-color: var(--fill-color);\n",
              "    }\n",
              "  }\n",
              "</style>\n",
              "\n",
              "  <script>\n",
              "    async function quickchart(key) {\n",
              "      const quickchartButtonEl =\n",
              "        document.querySelector('#' + key + ' button');\n",
              "      quickchartButtonEl.disabled = true;  // To prevent multiple clicks.\n",
              "      quickchartButtonEl.classList.add('colab-df-spinner');\n",
              "      try {\n",
              "        const charts = await google.colab.kernel.invokeFunction(\n",
              "            'suggestCharts', [key], {});\n",
              "      } catch (error) {\n",
              "        console.error('Error during call to suggestCharts:', error);\n",
              "      }\n",
              "      quickchartButtonEl.classList.remove('colab-df-spinner');\n",
              "      quickchartButtonEl.classList.add('colab-df-quickchart-complete');\n",
              "    }\n",
              "    (() => {\n",
              "      let quickchartButtonEl =\n",
              "        document.querySelector('#df-4e0e25c5-8fdc-46d6-83f3-65c5f82b8e60 button');\n",
              "      quickchartButtonEl.style.display =\n",
              "        google.colab.kernel.accessAllowed ? 'block' : 'none';\n",
              "    })();\n",
              "  </script>\n",
              "</div>\n",
              "    </div>\n",
              "  </div>\n"
            ]
          },
          "metadata": {},
          "execution_count": 4
        }
      ]
    },
    {
      "cell_type": "markdown",
      "source": [
        "## EDA"
      ],
      "metadata": {
        "id": "L-L7-iN0YMom"
      }
    },
    {
      "cell_type": "code",
      "source": [
        "# Vrijednosti koje nedostaju\n",
        "df.isna().sum()"
      ],
      "metadata": {
        "colab": {
          "base_uri": "https://localhost:8080/"
        },
        "id": "Q5wYOR4loih7",
        "outputId": "ce2cdfca-db81-4a57-ce66-a90b2339dd74"
      },
      "execution_count": null,
      "outputs": [
        {
          "output_type": "execute_result",
          "data": {
            "text/plain": [
              "Review    0\n",
              "Rating    0\n",
              "dtype: int64"
            ]
          },
          "metadata": {},
          "execution_count": 5
        }
      ]
    },
    {
      "cell_type": "code",
      "source": [
        "df.Rating.describe()"
      ],
      "metadata": {
        "colab": {
          "base_uri": "https://localhost:8080/"
        },
        "id": "kAKKcM_MqvvR",
        "outputId": "37175342-bd01-48c6-efd3-f57cdcf8b586"
      },
      "execution_count": null,
      "outputs": [
        {
          "output_type": "execute_result",
          "data": {
            "text/plain": [
              "count    20491.000000\n",
              "mean         3.952223\n",
              "std          1.233030\n",
              "min          1.000000\n",
              "25%          3.000000\n",
              "50%          4.000000\n",
              "75%          5.000000\n",
              "max          5.000000\n",
              "Name: Rating, dtype: float64"
            ]
          },
          "metadata": {},
          "execution_count": 6
        }
      ]
    },
    {
      "cell_type": "code",
      "source": [
        "# Distribucija ocjena\n",
        "sns.countplot(data=df, x=\"Rating\", palette=\"magma\").set_title(\"Distribucija ocjena\");"
      ],
      "metadata": {
        "colab": {
          "base_uri": "https://localhost:8080/",
          "height": 472
        },
        "id": "3hjGR0JvYOja",
        "outputId": "f7d554da-1982-40c3-8937-5edd6f49d176"
      },
      "execution_count": null,
      "outputs": [
        {
          "output_type": "display_data",
          "data": {
            "text/plain": [
              "<Figure size 640x480 with 1 Axes>"
            ],
            "image/png": "[encoded data removed]"
          },
          "metadata": {}
        }
      ]
    },
    {
      "cell_type": "code",
      "source": [
        "# Duljina review-a (char)\n",
        "df['Length'] = df['Review'].str.len()\n",
        "df.head()"
      ],
      "metadata": {
        "colab": {
          "base_uri": "https://localhost:8080/",
          "height": 206
        },
        "id": "3KrN0dIRYOSw",
        "outputId": "4999e5cc-76ed-4a97-e5dc-5fefb6b18ddc"
      },
      "execution_count": null,
      "outputs": [
        {
          "output_type": "execute_result",
          "data": {
            "text/plain": [
              "                                                                                                Review  \\\n",
              "0  nice hotel expensive parking got good deal stay hotel anniversary, arrived late evening took adv...   \n",
              "1  ok nothing special charge diamond member hilton decided chain shot 20th anniversary seattle, sta...   \n",
              "2  nice rooms not 4* experience hotel monaco seattle good hotel n't 4* level.positives large bathro...   \n",
              "3  unique, great stay, wonderful time hotel monaco, location excellent short stroll main downtown s...   \n",
              "4  great stay great stay, went seahawk game awesome, downfall view building did n't complain, room ...   \n",
              "\n",
              "   Rating  Length  \n",
              "0       4     593  \n",
              "1       2    1689  \n",
              "2       3    1427  \n",
              "3       5     600  \n",
              "4       5    1281  "
            ],
            "text/html": [
              "\n",
              "  <div id=\"df-4c44920a-0178-472d-a709-89c43e5b637a\" class=\"colab-df-container\">\n",
              "    <div>\n",
              "<style scoped>\n",
              "    .dataframe tbody tr th:only-of-type {\n",
              "        vertical-align: middle;\n",
              "    }\n",
              "\n",
              "    .dataframe tbody tr th {\n",
              "        vertical-align: top;\n",
              "    }\n",
              "\n",
              "    .dataframe thead th {\n",
              "        text-align: right;\n",
              "    }\n",
              "</style>\n",
              "<table border=\"1\" class=\"dataframe\">\n",
              "  <thead>\n",
              "    <tr style=\"text-align: right;\">\n",
              "      <th></th>\n",
              "      <th>Review</th>\n",
              "      <th>Rating</th>\n",
              "      <th>Length</th>\n",
              "    </tr>\n",
              "  </thead>\n",
              "  <tbody>\n",
              "    <tr>\n",
              "      <th>0</th>\n",
              "      <td>nice hotel expensive parking got good deal stay hotel anniversary, arrived late evening took adv...</td>\n",
              "      <td>4</td>\n",
              "      <td>593</td>\n",
              "    </tr>\n",
              "    <tr>\n",
              "      <th>1</th>\n",
              "      <td>ok nothing special charge diamond member hilton decided chain shot 20th anniversary seattle, sta...</td>\n",
              "      <td>2</td>\n",
              "      <td>1689</td>\n",
              "    </tr>\n",
              "    <tr>\n",
              "      <th>2</th>\n",
              "      <td>nice rooms not 4* experience hotel monaco seattle good hotel n't 4* level.positives large bathro...</td>\n",
              "      <td>3</td>\n",
              "      <td>1427</td>\n",
              "    </tr>\n",
              "    <tr>\n",
              "      <th>3</th>\n",
              "      <td>unique, great stay, wonderful time hotel monaco, location excellent short stroll main downtown s...</td>\n",
              "      <td>5</td>\n",
              "      <td>600</td>\n",
              "    </tr>\n",
              "    <tr>\n",
              "      <th>4</th>\n",
              "      <td>great stay great stay, went seahawk game awesome, downfall view building did n't complain, room ...</td>\n",
              "      <td>5</td>\n",
              "      <td>1281</td>\n",
              "    </tr>\n",
              "  </tbody>\n",
              "</table>\n",
              "</div>\n",
              "    <div class=\"colab-df-buttons\">\n",
              "\n",
              "  <div class=\"colab-df-container\">\n",
              "    <button class=\"colab-df-convert\" onclick=\"convertToInteractive('df-4c44920a-0178-472d-a709-89c43e5b637a')\"\n",
              "            title=\"Convert this dataframe to an interactive table.\"\n",
              "            style=\"display:none;\">\n",
              "\n",
              "  <svg xmlns=\"http://www.w3.org/2000/svg\" height=\"24px\" viewBox=\"0 -960 960 960\">\n",
              "    <path d=\"M120-120v-720h720v720H120Zm60-500h600v-160H180v160Zm220 220h160v-160H400v160Zm0 220h160v-160H400v160ZM180-400h160v-160H180v160Zm440 0h160v-160H620v160ZM180-180h160v-160H180v160Zm440 0h160v-160H620v160Z\"/>\n",
              "  </svg>\n",
              "    </button>\n",
              "\n",
              "  <style>\n",
              "    .colab-df-container {\n",
              "      display:flex;\n",
              "      gap: 12px;\n",
              "    }\n",
              "\n",
              "    .colab-df-convert {\n",
              "      background-color: #E8F0FE;\n",
              "      border: none;\n",
              "      border-radius: 50%;\n",
              "      cursor: pointer;\n",
              "      display: none;\n",
              "      fill: #1967D2;\n",
              "      height: 32px;\n",
              "      padding: 0 0 0 0;\n",
              "      width: 32px;\n",
              "    }\n",
              "\n",
              "    .colab-df-convert:hover {\n",
              "      background-color: #E2EBFA;\n",
              "      box-shadow: 0px 1px 2px rgba(60, 64, 67, 0.3), 0px 1px 3px 1px rgba(60, 64, 67, 0.15);\n",
              "      fill: #174EA6;\n",
              "    }\n",
              "\n",
              "    .colab-df-buttons div {\n",
              "      margin-bottom: 4px;\n",
              "    }\n",
              "\n",
              "    [theme=dark] .colab-df-convert {\n",
              "      background-color: #3B4455;\n",
              "      fill: #D2E3FC;\n",
              "    }\n",
              "\n",
              "    [theme=dark] .colab-df-convert:hover {\n",
              "      background-color: #434B5C;\n",
              "      box-shadow: 0px 1px 3px 1px rgba(0, 0, 0, 0.15);\n",
              "      filter: drop-shadow(0px 1px 2px rgba(0, 0, 0, 0.3));\n",
              "      fill: #FFFFFF;\n",
              "    }\n",
              "  </style>\n",
              "\n",
              "    <script>\n",
              "      const buttonEl =\n",
              "        document.querySelector('#df-4c44920a-0178-472d-a709-89c43e5b637a button.colab-df-convert');\n",
              "      buttonEl.style.display =\n",
              "        google.colab.kernel.accessAllowed ? 'block' : 'none';\n",
              "\n",
              "      async function convertToInteractive(key) {\n",
              "        const element = document.querySelector('#df-4c44920a-0178-472d-a709-89c43e5b637a');\n",
              "        const dataTable =\n",
              "          await google.colab.kernel.invokeFunction('convertToInteractive',\n",
              "                                                    [key], {});\n",
              "        if (!dataTable) return;\n",
              "\n",
              "        const docLinkHtml = 'Like what you see? Visit the ' +\n",
              "          '<a target=\"_blank\" href=https://colab.research.google.com/notebooks/data_table.ipynb>data table notebook</a>'\n",
              "          + ' to learn more about interactive tables.';\n",
              "        element.innerHTML = '';\n",
              "        dataTable['output_type'] = 'display_data';\n",
              "        await google.colab.output.renderOutput(dataTable, element);\n",
              "        const docLink = document.createElement('div');\n",
              "        docLink.innerHTML = docLinkHtml;\n",
              "        element.appendChild(docLink);\n",
              "      }\n",
              "    </script>\n",
              "  </div>\n",
              "\n",
              "\n",
              "<div id=\"df-188f3b74-a12f-41c6-b8c6-2c8dd05c9e62\">\n",
              "  <button class=\"colab-df-quickchart\" onclick=\"quickchart('df-188f3b74-a12f-41c6-b8c6-2c8dd05c9e62')\"\n",
              "            title=\"Suggest charts\"\n",
              "            style=\"display:none;\">\n",
              "\n",
              "<svg xmlns=\"http://www.w3.org/2000/svg\" height=\"24px\"viewBox=\"0 0 24 24\"\n",
              "     width=\"24px\">\n",
              "    <g>\n",
              "        <path d=\"M19 3H5c-1.1 0-2 .9-2 2v14c0 1.1.9 2 2 2h14c1.1 0 2-.9 2-2V5c0-1.1-.9-2-2-2zM9 17H7v-7h2v7zm4 0h-2V7h2v10zm4 0h-2v-4h2v4z\"/>\n",
              "    </g>\n",
              "</svg>\n",
              "  </button>\n",
              "\n",
              "<style>\n",
              "  .colab-df-quickchart {\n",
              "      --bg-color: #E8F0FE;\n",
              "      --fill-color: #1967D2;\n",
              "      --hover-bg-color: #E2EBFA;\n",
              "      --hover-fill-color: #174EA6;\n",
              "      --disabled-fill-color: #AAA;\n",
              "      --disabled-bg-color: #DDD;\n",
              "  }\n",
              "\n",
              "  [theme=dark] .colab-df-quickchart {\n",
              "      --bg-color: #3B4455;\n",
              "      --fill-color: #D2E3FC;\n",
              "      --hover-bg-color: #434B5C;\n",
              "      --hover-fill-color: #FFFFFF;\n",
              "      --disabled-bg-color: #3B4455;\n",
              "      --disabled-fill-color: #666;\n",
              "  }\n",
              "\n",
              "  .colab-df-quickchart {\n",
              "    background-color: var(--bg-color);\n",
              "    border: none;\n",
              "    border-radius: 50%;\n",
              "    cursor: pointer;\n",
              "    display: none;\n",
              "    fill: var(--fill-color);\n",
              "    height: 32px;\n",
              "    padding: 0;\n",
              "    width: 32px;\n",
              "  }\n",
              "\n",
              "  .colab-df-quickchart:hover {\n",
              "    background-color: var(--hover-bg-color);\n",
              "    box-shadow: 0 1px 2px rgba(60, 64, 67, 0.3), 0 1px 3px 1px rgba(60, 64, 67, 0.15);\n",
              "    fill: var(--button-hover-fill-color);\n",
              "  }\n",
              "\n",
              "  .colab-df-quickchart-complete:disabled,\n",
              "  .colab-df-quickchart-complete:disabled:hover {\n",
              "    background-color: var(--disabled-bg-color);\n",
              "    fill: var(--disabled-fill-color);\n",
              "    box-shadow: none;\n",
              "  }\n",
              "\n",
              "  .colab-df-spinner {\n",
              "    border: 2px solid var(--fill-color);\n",
              "    border-color: transparent;\n",
              "    border-bottom-color: var(--fill-color);\n",
              "    animation:\n",
              "      spin 1s steps(1) infinite;\n",
              "  }\n",
              "\n",
              "  @keyframes spin {\n",
              "    0% {\n",
              "      border-color: transparent;\n",
              "      border-bottom-color: var(--fill-color);\n",
              "      border-left-color: var(--fill-color);\n",
              "    }\n",
              "    20% {\n",
              "      border-color: transparent;\n",
              "      border-left-color: var(--fill-color);\n",
              "      border-top-color: var(--fill-color);\n",
              "    }\n",
              "    30% {\n",
              "      border-color: transparent;\n",
              "      border-left-color: var(--fill-color);\n",
              "      border-top-color: var(--fill-color);\n",
              "      border-right-color: var(--fill-color);\n",
              "    }\n",
              "    40% {\n",
              "      border-color: transparent;\n",
              "      border-right-color: var(--fill-color);\n",
              "      border-top-color: var(--fill-color);\n",
              "    }\n",
              "    60% {\n",
              "      border-color: transparent;\n",
              "      border-right-color: var(--fill-color);\n",
              "    }\n",
              "    80% {\n",
              "      border-color: transparent;\n",
              "      border-right-color: var(--fill-color);\n",
              "      border-bottom-color: var(--fill-color);\n",
              "    }\n",
              "    90% {\n",
              "      border-color: transparent;\n",
              "      border-bottom-color: var(--fill-color);\n",
              "    }\n",
              "  }\n",
              "</style>\n",
              "\n",
              "  <script>\n",
              "    async function quickchart(key) {\n",
              "      const quickchartButtonEl =\n",
              "        document.querySelector('#' + key + ' button');\n",
              "      quickchartButtonEl.disabled = true;  // To prevent multiple clicks.\n",
              "      quickchartButtonEl.classList.add('colab-df-spinner');\n",
              "      try {\n",
              "        const charts = await google.colab.kernel.invokeFunction(\n",
              "            'suggestCharts', [key], {});\n",
              "      } catch (error) {\n",
              "        console.error('Error during call to suggestCharts:', error);\n",
              "      }\n",
              "      quickchartButtonEl.classList.remove('colab-df-spinner');\n",
              "      quickchartButtonEl.classList.add('colab-df-quickchart-complete');\n",
              "    }\n",
              "    (() => {\n",
              "      let quickchartButtonEl =\n",
              "        document.querySelector('#df-188f3b74-a12f-41c6-b8c6-2c8dd05c9e62 button');\n",
              "      quickchartButtonEl.style.display =\n",
              "        google.colab.kernel.accessAllowed ? 'block' : 'none';\n",
              "    })();\n",
              "  </script>\n",
              "</div>\n",
              "    </div>\n",
              "  </div>\n"
            ]
          },
          "metadata": {},
          "execution_count": 8
        }
      ]
    },
    {
      "cell_type": "code",
      "source": [
        "# Duljina review-a (riječ)\n",
        "def word_count(review):\n",
        "    review_list = review.split()\n",
        "    return len(review_list)\n",
        "\n",
        "df['Word count'] = df['Review'].apply(word_count)\n",
        "df.head()"
      ],
      "metadata": {
        "colab": {
          "base_uri": "https://localhost:8080/",
          "height": 206
        },
        "id": "DWfjtfzlYOPA",
        "outputId": "b58844ad-01b8-4b5c-bbe3-82cfb471e153"
      },
      "execution_count": null,
      "outputs": [
        {
          "output_type": "execute_result",
          "data": {
            "text/plain": [
              "                                                                                                Review  \\\n",
              "0  nice hotel expensive parking got good deal stay hotel anniversary, arrived late evening took adv...   \n",
              "1  ok nothing special charge diamond member hilton decided chain shot 20th anniversary seattle, sta...   \n",
              "2  nice rooms not 4* experience hotel monaco seattle good hotel n't 4* level.positives large bathro...   \n",
              "3  unique, great stay, wonderful time hotel monaco, location excellent short stroll main downtown s...   \n",
              "4  great stay great stay, went seahawk game awesome, downfall view building did n't complain, room ...   \n",
              "\n",
              "   Rating  Length  Word count  \n",
              "0       4     593          87  \n",
              "1       2    1689         250  \n",
              "2       3    1427         217  \n",
              "3       5     600          89  \n",
              "4       5    1281         191  "
            ],
            "text/html": [
              "\n",
              "  <div id=\"df-ea59af3f-8550-4ef7-a5bd-70789df2c133\" class=\"colab-df-container\">\n",
              "    <div>\n",
              "<style scoped>\n",
              "    .dataframe tbody tr th:only-of-type {\n",
              "        vertical-align: middle;\n",
              "    }\n",
              "\n",
              "    .dataframe tbody tr th {\n",
              "        vertical-align: top;\n",
              "    }\n",
              "\n",
              "    .dataframe thead th {\n",
              "        text-align: right;\n",
              "    }\n",
              "</style>\n",
              "<table border=\"1\" class=\"dataframe\">\n",
              "  <thead>\n",
              "    <tr style=\"text-align: right;\">\n",
              "      <th></th>\n",
              "      <th>Review</th>\n",
              "      <th>Rating</th>\n",
              "      <th>Length</th>\n",
              "      <th>Word count</th>\n",
              "    </tr>\n",
              "  </thead>\n",
              "  <tbody>\n",
              "    <tr>\n",
              "      <th>0</th>\n",
              "      <td>nice hotel expensive parking got good deal stay hotel anniversary, arrived late evening took adv...</td>\n",
              "      <td>4</td>\n",
              "      <td>593</td>\n",
              "      <td>87</td>\n",
              "    </tr>\n",
              "    <tr>\n",
              "      <th>1</th>\n",
              "      <td>ok nothing special charge diamond member hilton decided chain shot 20th anniversary seattle, sta...</td>\n",
              "      <td>2</td>\n",
              "      <td>1689</td>\n",
              "      <td>250</td>\n",
              "    </tr>\n",
              "    <tr>\n",
              "      <th>2</th>\n",
              "      <td>nice rooms not 4* experience hotel monaco seattle good hotel n't 4* level.positives large bathro...</td>\n",
              "      <td>3</td>\n",
              "      <td>1427</td>\n",
              "      <td>217</td>\n",
              "    </tr>\n",
              "    <tr>\n",
              "      <th>3</th>\n",
              "      <td>unique, great stay, wonderful time hotel monaco, location excellent short stroll main downtown s...</td>\n",
              "      <td>5</td>\n",
              "      <td>600</td>\n",
              "      <td>89</td>\n",
              "    </tr>\n",
              "    <tr>\n",
              "      <th>4</th>\n",
              "      <td>great stay great stay, went seahawk game awesome, downfall view building did n't complain, room ...</td>\n",
              "      <td>5</td>\n",
              "      <td>1281</td>\n",
              "      <td>191</td>\n",
              "    </tr>\n",
              "  </tbody>\n",
              "</table>\n",
              "</div>\n",
              "    <div class=\"colab-df-buttons\">\n",
              "\n",
              "  <div class=\"colab-df-container\">\n",
              "    <button class=\"colab-df-convert\" onclick=\"convertToInteractive('df-ea59af3f-8550-4ef7-a5bd-70789df2c133')\"\n",
              "            title=\"Convert this dataframe to an interactive table.\"\n",
              "            style=\"display:none;\">\n",
              "\n",
              "  <svg xmlns=\"http://www.w3.org/2000/svg\" height=\"24px\" viewBox=\"0 -960 960 960\">\n",
              "    <path d=\"M120-120v-720h720v720H120Zm60-500h600v-160H180v160Zm220 220h160v-160H400v160Zm0 220h160v-160H400v160ZM180-400h160v-160H180v160Zm440 0h160v-160H620v160ZM180-180h160v-160H180v160Zm440 0h160v-160H620v160Z\"/>\n",
              "  </svg>\n",
              "    </button>\n",
              "\n",
              "  <style>\n",
              "    .colab-df-container {\n",
              "      display:flex;\n",
              "      gap: 12px;\n",
              "    }\n",
              "\n",
              "    .colab-df-convert {\n",
              "      background-color: #E8F0FE;\n",
              "      border: none;\n",
              "      border-radius: 50%;\n",
              "      cursor: pointer;\n",
              "      display: none;\n",
              "      fill: #1967D2;\n",
              "      height: 32px;\n",
              "      padding: 0 0 0 0;\n",
              "      width: 32px;\n",
              "    }\n",
              "\n",
              "    .colab-df-convert:hover {\n",
              "      background-color: #E2EBFA;\n",
              "      box-shadow: 0px 1px 2px rgba(60, 64, 67, 0.3), 0px 1px 3px 1px rgba(60, 64, 67, 0.15);\n",
              "      fill: #174EA6;\n",
              "    }\n",
              "\n",
              "    .colab-df-buttons div {\n",
              "      margin-bottom: 4px;\n",
              "    }\n",
              "\n",
              "    [theme=dark] .colab-df-convert {\n",
              "      background-color: #3B4455;\n",
              "      fill: #D2E3FC;\n",
              "    }\n",
              "\n",
              "    [theme=dark] .colab-df-convert:hover {\n",
              "      background-color: #434B5C;\n",
              "      box-shadow: 0px 1px 3px 1px rgba(0, 0, 0, 0.15);\n",
              "      filter: drop-shadow(0px 1px 2px rgba(0, 0, 0, 0.3));\n",
              "      fill: #FFFFFF;\n",
              "    }\n",
              "  </style>\n",
              "\n",
              "    <script>\n",
              "      const buttonEl =\n",
              "        document.querySelector('#df-ea59af3f-8550-4ef7-a5bd-70789df2c133 button.colab-df-convert');\n",
              "      buttonEl.style.display =\n",
              "        google.colab.kernel.accessAllowed ? 'block' : 'none';\n",
              "\n",
              "      async function convertToInteractive(key) {\n",
              "        const element = document.querySelector('#df-ea59af3f-8550-4ef7-a5bd-70789df2c133');\n",
              "        const dataTable =\n",
              "          await google.colab.kernel.invokeFunction('convertToInteractive',\n",
              "                                                    [key], {});\n",
              "        if (!dataTable) return;\n",
              "\n",
              "        const docLinkHtml = 'Like what you see? Visit the ' +\n",
              "          '<a target=\"_blank\" href=https://colab.research.google.com/notebooks/data_table.ipynb>data table notebook</a>'\n",
              "          + ' to learn more about interactive tables.';\n",
              "        element.innerHTML = '';\n",
              "        dataTable['output_type'] = 'display_data';\n",
              "        await google.colab.output.renderOutput(dataTable, element);\n",
              "        const docLink = document.createElement('div');\n",
              "        docLink.innerHTML = docLinkHtml;\n",
              "        element.appendChild(docLink);\n",
              "      }\n",
              "    </script>\n",
              "  </div>\n",
              "\n",
              "\n",
              "<div id=\"df-6fd3462b-58cb-48bf-a39a-805064764044\">\n",
              "  <button class=\"colab-df-quickchart\" onclick=\"quickchart('df-6fd3462b-58cb-48bf-a39a-805064764044')\"\n",
              "            title=\"Suggest charts\"\n",
              "            style=\"display:none;\">\n",
              "\n",
              "<svg xmlns=\"http://www.w3.org/2000/svg\" height=\"24px\"viewBox=\"0 0 24 24\"\n",
              "     width=\"24px\">\n",
              "    <g>\n",
              "        <path d=\"M19 3H5c-1.1 0-2 .9-2 2v14c0 1.1.9 2 2 2h14c1.1 0 2-.9 2-2V5c0-1.1-.9-2-2-2zM9 17H7v-7h2v7zm4 0h-2V7h2v10zm4 0h-2v-4h2v4z\"/>\n",
              "    </g>\n",
              "</svg>\n",
              "  </button>\n",
              "\n",
              "<style>\n",
              "  .colab-df-quickchart {\n",
              "      --bg-color: #E8F0FE;\n",
              "      --fill-color: #1967D2;\n",
              "      --hover-bg-color: #E2EBFA;\n",
              "      --hover-fill-color: #174EA6;\n",
              "      --disabled-fill-color: #AAA;\n",
              "      --disabled-bg-color: #DDD;\n",
              "  }\n",
              "\n",
              "  [theme=dark] .colab-df-quickchart {\n",
              "      --bg-color: #3B4455;\n",
              "      --fill-color: #D2E3FC;\n",
              "      --hover-bg-color: #434B5C;\n",
              "      --hover-fill-color: #FFFFFF;\n",
              "      --disabled-bg-color: #3B4455;\n",
              "      --disabled-fill-color: #666;\n",
              "  }\n",
              "\n",
              "  .colab-df-quickchart {\n",
              "    background-color: var(--bg-color);\n",
              "    border: none;\n",
              "    border-radius: 50%;\n",
              "    cursor: pointer;\n",
              "    display: none;\n",
              "    fill: var(--fill-color);\n",
              "    height: 32px;\n",
              "    padding: 0;\n",
              "    width: 32px;\n",
              "  }\n",
              "\n",
              "  .colab-df-quickchart:hover {\n",
              "    background-color: var(--hover-bg-color);\n",
              "    box-shadow: 0 1px 2px rgba(60, 64, 67, 0.3), 0 1px 3px 1px rgba(60, 64, 67, 0.15);\n",
              "    fill: var(--button-hover-fill-color);\n",
              "  }\n",
              "\n",
              "  .colab-df-quickchart-complete:disabled,\n",
              "  .colab-df-quickchart-complete:disabled:hover {\n",
              "    background-color: var(--disabled-bg-color);\n",
              "    fill: var(--disabled-fill-color);\n",
              "    box-shadow: none;\n",
              "  }\n",
              "\n",
              "  .colab-df-spinner {\n",
              "    border: 2px solid var(--fill-color);\n",
              "    border-color: transparent;\n",
              "    border-bottom-color: var(--fill-color);\n",
              "    animation:\n",
              "      spin 1s steps(1) infinite;\n",
              "  }\n",
              "\n",
              "  @keyframes spin {\n",
              "    0% {\n",
              "      border-color: transparent;\n",
              "      border-bottom-color: var(--fill-color);\n",
              "      border-left-color: var(--fill-color);\n",
              "    }\n",
              "    20% {\n",
              "      border-color: transparent;\n",
              "      border-left-color: var(--fill-color);\n",
              "      border-top-color: var(--fill-color);\n",
              "    }\n",
              "    30% {\n",
              "      border-color: transparent;\n",
              "      border-left-color: var(--fill-color);\n",
              "      border-top-color: var(--fill-color);\n",
              "      border-right-color: var(--fill-color);\n",
              "    }\n",
              "    40% {\n",
              "      border-color: transparent;\n",
              "      border-right-color: var(--fill-color);\n",
              "      border-top-color: var(--fill-color);\n",
              "    }\n",
              "    60% {\n",
              "      border-color: transparent;\n",
              "      border-right-color: var(--fill-color);\n",
              "    }\n",
              "    80% {\n",
              "      border-color: transparent;\n",
              "      border-right-color: var(--fill-color);\n",
              "      border-bottom-color: var(--fill-color);\n",
              "    }\n",
              "    90% {\n",
              "      border-color: transparent;\n",
              "      border-bottom-color: var(--fill-color);\n",
              "    }\n",
              "  }\n",
              "</style>\n",
              "\n",
              "  <script>\n",
              "    async function quickchart(key) {\n",
              "      const quickchartButtonEl =\n",
              "        document.querySelector('#' + key + ' button');\n",
              "      quickchartButtonEl.disabled = true;  // To prevent multiple clicks.\n",
              "      quickchartButtonEl.classList.add('colab-df-spinner');\n",
              "      try {\n",
              "        const charts = await google.colab.kernel.invokeFunction(\n",
              "            'suggestCharts', [key], {});\n",
              "      } catch (error) {\n",
              "        console.error('Error during call to suggestCharts:', error);\n",
              "      }\n",
              "      quickchartButtonEl.classList.remove('colab-df-spinner');\n",
              "      quickchartButtonEl.classList.add('colab-df-quickchart-complete');\n",
              "    }\n",
              "    (() => {\n",
              "      let quickchartButtonEl =\n",
              "        document.querySelector('#df-6fd3462b-58cb-48bf-a39a-805064764044 button');\n",
              "      quickchartButtonEl.style.display =\n",
              "        google.colab.kernel.accessAllowed ? 'block' : 'none';\n",
              "    })();\n",
              "  </script>\n",
              "</div>\n",
              "    </div>\n",
              "  </div>\n"
            ]
          },
          "metadata": {},
          "execution_count": 9
        }
      ]
    },
    {
      "cell_type": "code",
      "source": [
        "# Deskriptivna statistika\n",
        "df.Length.describe()"
      ],
      "metadata": {
        "colab": {
          "base_uri": "https://localhost:8080/"
        },
        "id": "XsKtiyrziRR-",
        "outputId": "4cf964a1-906b-4f0c-9d08-192f23d431f4"
      },
      "execution_count": null,
      "outputs": [
        {
          "output_type": "execute_result",
          "data": {
            "text/plain": [
              "count    20491.000000\n",
              "mean       724.896833\n",
              "std        689.101024\n",
              "min         44.000000\n",
              "25%        339.000000\n",
              "50%        537.000000\n",
              "75%        859.000000\n",
              "max      13501.000000\n",
              "Name: Length, dtype: float64"
            ]
          },
          "metadata": {},
          "execution_count": 10
        }
      ]
    },
    {
      "cell_type": "code",
      "source": [
        "sns.histplot(df['Length'], kde=False, color='lightblue')\n",
        "plt.title('Histogram za stupac Length')\n",
        "plt.xlabel('Length')\n",
        "plt.ylabel('Frequency')\n",
        "plt.show()"
      ],
      "metadata": {
        "colab": {
          "base_uri": "https://localhost:8080/",
          "height": 472
        },
        "id": "lPjogNzP-9ET",
        "outputId": "8082b102-f031-4131-84da-0ed14b24974a"
      },
      "execution_count": null,
      "outputs": [
        {
          "output_type": "display_data",
          "data": {
            "text/plain": [
              "<Figure size 640x480 with 1 Axes>"
            ],
            "image/png": "[encoded data removed]"
          },
          "metadata": {}
        }
      ]
    },
    {
      "cell_type": "code",
      "source": [
        "df['Word count'].describe()"
      ],
      "metadata": {
        "colab": {
          "base_uri": "https://localhost:8080/"
        },
        "id": "MIwHlj1orEGJ",
        "outputId": "472c7712-ce4d-47ec-9e17-e88049037880"
      },
      "execution_count": null,
      "outputs": [
        {
          "output_type": "execute_result",
          "data": {
            "text/plain": [
              "count    20491.000000\n",
              "mean       104.375824\n",
              "std        100.656586\n",
              "min          7.000000\n",
              "25%         48.000000\n",
              "50%         77.000000\n",
              "75%        124.000000\n",
              "max       1931.000000\n",
              "Name: Word count, dtype: float64"
            ]
          },
          "metadata": {},
          "execution_count": 12
        }
      ]
    },
    {
      "cell_type": "code",
      "source": [
        "sns.histplot(df['Word count'], kde=False, color='lightgreen')\n",
        "plt.title('Histogram za stupac Word Count')\n",
        "plt.xlabel('Word Count')\n",
        "plt.ylabel('Frequency')\n",
        "plt.show()"
      ],
      "metadata": {
        "colab": {
          "base_uri": "https://localhost:8080/",
          "height": 472
        },
        "id": "yU4bt4RX-qDD",
        "outputId": "4bac164e-72e8-4241-82f1-ae712db02daa"
      },
      "execution_count": null,
      "outputs": [
        {
          "output_type": "display_data",
          "data": {
            "text/plain": [
              "<Figure size 640x480 with 1 Axes>"
            ],
            "image/png": "[encoded data removed]"
          },
          "metadata": {}
        }
      ]
    },
    {
      "cell_type": "markdown",
      "source": [
        "## Najzastupljenije riječi i *n*-grami"
      ],
      "metadata": {
        "id": "lQpxGPwiqfDz"
      }
    },
    {
      "cell_type": "code",
      "source": [
        "df.drop(['Length', 'Word count'], axis = 1, inplace = True)\n",
        "df.head()"
      ],
      "metadata": {
        "colab": {
          "base_uri": "https://localhost:8080/",
          "height": 206
        },
        "id": "LzIwWyhUqfs-",
        "outputId": "000fcc8c-f339-4ace-a5df-00d59f8e182d"
      },
      "execution_count": null,
      "outputs": [
        {
          "output_type": "execute_result",
          "data": {
            "text/plain": [
              "                                                                                                Review  \\\n",
              "0  nice hotel expensive parking got good deal stay hotel anniversary, arrived late evening took adv...   \n",
              "1  ok nothing special charge diamond member hilton decided chain shot 20th anniversary seattle, sta...   \n",
              "2  nice rooms not 4* experience hotel monaco seattle good hotel n't 4* level.positives large bathro...   \n",
              "3  unique, great stay, wonderful time hotel monaco, location excellent short stroll main downtown s...   \n",
              "4  great stay great stay, went seahawk game awesome, downfall view building did n't complain, room ...   \n",
              "\n",
              "   Rating  \n",
              "0       4  \n",
              "1       2  \n",
              "2       3  \n",
              "3       5  \n",
              "4       5  "
            ],
            "text/html": [
              "\n",
              "  <div id=\"df-d6ecd7fd-d35b-4e26-8d95-b319a7be389b\" class=\"colab-df-container\">\n",
              "    <div>\n",
              "<style scoped>\n",
              "    .dataframe tbody tr th:only-of-type {\n",
              "        vertical-align: middle;\n",
              "    }\n",
              "\n",
              "    .dataframe tbody tr th {\n",
              "        vertical-align: top;\n",
              "    }\n",
              "\n",
              "    .dataframe thead th {\n",
              "        text-align: right;\n",
              "    }\n",
              "</style>\n",
              "<table border=\"1\" class=\"dataframe\">\n",
              "  <thead>\n",
              "    <tr style=\"text-align: right;\">\n",
              "      <th></th>\n",
              "      <th>Review</th>\n",
              "      <th>Rating</th>\n",
              "    </tr>\n",
              "  </thead>\n",
              "  <tbody>\n",
              "    <tr>\n",
              "      <th>0</th>\n",
              "      <td>nice hotel expensive parking got good deal stay hotel anniversary, arrived late evening took adv...</td>\n",
              "      <td>4</td>\n",
              "    </tr>\n",
              "    <tr>\n",
              "      <th>1</th>\n",
              "      <td>ok nothing special charge diamond member hilton decided chain shot 20th anniversary seattle, sta...</td>\n",
              "      <td>2</td>\n",
              "    </tr>\n",
              "    <tr>\n",
              "      <th>2</th>\n",
              "      <td>nice rooms not 4* experience hotel monaco seattle good hotel n't 4* level.positives large bathro...</td>\n",
              "      <td>3</td>\n",
              "    </tr>\n",
              "    <tr>\n",
              "      <th>3</th>\n",
              "      <td>unique, great stay, wonderful time hotel monaco, location excellent short stroll main downtown s...</td>\n",
              "      <td>5</td>\n",
              "    </tr>\n",
              "    <tr>\n",
              "      <th>4</th>\n",
              "      <td>great stay great stay, went seahawk game awesome, downfall view building did n't complain, room ...</td>\n",
              "      <td>5</td>\n",
              "    </tr>\n",
              "  </tbody>\n",
              "</table>\n",
              "</div>\n",
              "    <div class=\"colab-df-buttons\">\n",
              "\n",
              "  <div class=\"colab-df-container\">\n",
              "    <button class=\"colab-df-convert\" onclick=\"convertToInteractive('df-d6ecd7fd-d35b-4e26-8d95-b319a7be389b')\"\n",
              "            title=\"Convert this dataframe to an interactive table.\"\n",
              "            style=\"display:none;\">\n",
              "\n",
              "  <svg xmlns=\"http://www.w3.org/2000/svg\" height=\"24px\" viewBox=\"0 -960 960 960\">\n",
              "    <path d=\"M120-120v-720h720v720H120Zm60-500h600v-160H180v160Zm220 220h160v-160H400v160Zm0 220h160v-160H400v160ZM180-400h160v-160H180v160Zm440 0h160v-160H620v160ZM180-180h160v-160H180v160Zm440 0h160v-160H620v160Z\"/>\n",
              "  </svg>\n",
              "    </button>\n",
              "\n",
              "  <style>\n",
              "    .colab-df-container {\n",
              "      display:flex;\n",
              "      gap: 12px;\n",
              "    }\n",
              "\n",
              "    .colab-df-convert {\n",
              "      background-color: #E8F0FE;\n",
              "      border: none;\n",
              "      border-radius: 50%;\n",
              "      cursor: pointer;\n",
              "      display: none;\n",
              "      fill: #1967D2;\n",
              "      height: 32px;\n",
              "      padding: 0 0 0 0;\n",
              "      width: 32px;\n",
              "    }\n",
              "\n",
              "    .colab-df-convert:hover {\n",
              "      background-color: #E2EBFA;\n",
              "      box-shadow: 0px 1px 2px rgba(60, 64, 67, 0.3), 0px 1px 3px 1px rgba(60, 64, 67, 0.15);\n",
              "      fill: #174EA6;\n",
              "    }\n",
              "\n",
              "    .colab-df-buttons div {\n",
              "      margin-bottom: 4px;\n",
              "    }\n",
              "\n",
              "    [theme=dark] .colab-df-convert {\n",
              "      background-color: #3B4455;\n",
              "      fill: #D2E3FC;\n",
              "    }\n",
              "\n",
              "    [theme=dark] .colab-df-convert:hover {\n",
              "      background-color: #434B5C;\n",
              "      box-shadow: 0px 1px 3px 1px rgba(0, 0, 0, 0.15);\n",
              "      filter: drop-shadow(0px 1px 2px rgba(0, 0, 0, 0.3));\n",
              "      fill: #FFFFFF;\n",
              "    }\n",
              "  </style>\n",
              "\n",
              "    <script>\n",
              "      const buttonEl =\n",
              "        document.querySelector('#df-d6ecd7fd-d35b-4e26-8d95-b319a7be389b button.colab-df-convert');\n",
              "      buttonEl.style.display =\n",
              "        google.colab.kernel.accessAllowed ? 'block' : 'none';\n",
              "\n",
              "      async function convertToInteractive(key) {\n",
              "        const element = document.querySelector('#df-d6ecd7fd-d35b-4e26-8d95-b319a7be389b');\n",
              "        const dataTable =\n",
              "          await google.colab.kernel.invokeFunction('convertToInteractive',\n",
              "                                                    [key], {});\n",
              "        if (!dataTable) return;\n",
              "\n",
              "        const docLinkHtml = 'Like what you see? Visit the ' +\n",
              "          '<a target=\"_blank\" href=https://colab.research.google.com/notebooks/data_table.ipynb>data table notebook</a>'\n",
              "          + ' to learn more about interactive tables.';\n",
              "        element.innerHTML = '';\n",
              "        dataTable['output_type'] = 'display_data';\n",
              "        await google.colab.output.renderOutput(dataTable, element);\n",
              "        const docLink = document.createElement('div');\n",
              "        docLink.innerHTML = docLinkHtml;\n",
              "        element.appendChild(docLink);\n",
              "      }\n",
              "    </script>\n",
              "  </div>\n",
              "\n",
              "\n",
              "<div id=\"df-02c56f9f-30b1-4b61-b658-397ea786c70a\">\n",
              "  <button class=\"colab-df-quickchart\" onclick=\"quickchart('df-02c56f9f-30b1-4b61-b658-397ea786c70a')\"\n",
              "            title=\"Suggest charts\"\n",
              "            style=\"display:none;\">\n",
              "\n",
              "<svg xmlns=\"http://www.w3.org/2000/svg\" height=\"24px\"viewBox=\"0 0 24 24\"\n",
              "     width=\"24px\">\n",
              "    <g>\n",
              "        <path d=\"M19 3H5c-1.1 0-2 .9-2 2v14c0 1.1.9 2 2 2h14c1.1 0 2-.9 2-2V5c0-1.1-.9-2-2-2zM9 17H7v-7h2v7zm4 0h-2V7h2v10zm4 0h-2v-4h2v4z\"/>\n",
              "    </g>\n",
              "</svg>\n",
              "  </button>\n",
              "\n",
              "<style>\n",
              "  .colab-df-quickchart {\n",
              "      --bg-color: #E8F0FE;\n",
              "      --fill-color: #1967D2;\n",
              "      --hover-bg-color: #E2EBFA;\n",
              "      --hover-fill-color: #174EA6;\n",
              "      --disabled-fill-color: #AAA;\n",
              "      --disabled-bg-color: #DDD;\n",
              "  }\n",
              "\n",
              "  [theme=dark] .colab-df-quickchart {\n",
              "      --bg-color: #3B4455;\n",
              "      --fill-color: #D2E3FC;\n",
              "      --hover-bg-color: #434B5C;\n",
              "      --hover-fill-color: #FFFFFF;\n",
              "      --disabled-bg-color: #3B4455;\n",
              "      --disabled-fill-color: #666;\n",
              "  }\n",
              "\n",
              "  .colab-df-quickchart {\n",
              "    background-color: var(--bg-color);\n",
              "    border: none;\n",
              "    border-radius: 50%;\n",
              "    cursor: pointer;\n",
              "    display: none;\n",
              "    fill: var(--fill-color);\n",
              "    height: 32px;\n",
              "    padding: 0;\n",
              "    width: 32px;\n",
              "  }\n",
              "\n",
              "  .colab-df-quickchart:hover {\n",
              "    background-color: var(--hover-bg-color);\n",
              "    box-shadow: 0 1px 2px rgba(60, 64, 67, 0.3), 0 1px 3px 1px rgba(60, 64, 67, 0.15);\n",
              "    fill: var(--button-hover-fill-color);\n",
              "  }\n",
              "\n",
              "  .colab-df-quickchart-complete:disabled,\n",
              "  .colab-df-quickchart-complete:disabled:hover {\n",
              "    background-color: var(--disabled-bg-color);\n",
              "    fill: var(--disabled-fill-color);\n",
              "    box-shadow: none;\n",
              "  }\n",
              "\n",
              "  .colab-df-spinner {\n",
              "    border: 2px solid var(--fill-color);\n",
              "    border-color: transparent;\n",
              "    border-bottom-color: var(--fill-color);\n",
              "    animation:\n",
              "      spin 1s steps(1) infinite;\n",
              "  }\n",
              "\n",
              "  @keyframes spin {\n",
              "    0% {\n",
              "      border-color: transparent;\n",
              "      border-bottom-color: var(--fill-color);\n",
              "      border-left-color: var(--fill-color);\n",
              "    }\n",
              "    20% {\n",
              "      border-color: transparent;\n",
              "      border-left-color: var(--fill-color);\n",
              "      border-top-color: var(--fill-color);\n",
              "    }\n",
              "    30% {\n",
              "      border-color: transparent;\n",
              "      border-left-color: var(--fill-color);\n",
              "      border-top-color: var(--fill-color);\n",
              "      border-right-color: var(--fill-color);\n",
              "    }\n",
              "    40% {\n",
              "      border-color: transparent;\n",
              "      border-right-color: var(--fill-color);\n",
              "      border-top-color: var(--fill-color);\n",
              "    }\n",
              "    60% {\n",
              "      border-color: transparent;\n",
              "      border-right-color: var(--fill-color);\n",
              "    }\n",
              "    80% {\n",
              "      border-color: transparent;\n",
              "      border-right-color: var(--fill-color);\n",
              "      border-bottom-color: var(--fill-color);\n",
              "    }\n",
              "    90% {\n",
              "      border-color: transparent;\n",
              "      border-bottom-color: var(--fill-color);\n",
              "    }\n",
              "  }\n",
              "</style>\n",
              "\n",
              "  <script>\n",
              "    async function quickchart(key) {\n",
              "      const quickchartButtonEl =\n",
              "        document.querySelector('#' + key + ' button');\n",
              "      quickchartButtonEl.disabled = true;  // To prevent multiple clicks.\n",
              "      quickchartButtonEl.classList.add('colab-df-spinner');\n",
              "      try {\n",
              "        const charts = await google.colab.kernel.invokeFunction(\n",
              "            'suggestCharts', [key], {});\n",
              "      } catch (error) {\n",
              "        console.error('Error during call to suggestCharts:', error);\n",
              "      }\n",
              "      quickchartButtonEl.classList.remove('colab-df-spinner');\n",
              "      quickchartButtonEl.classList.add('colab-df-quickchart-complete');\n",
              "    }\n",
              "    (() => {\n",
              "      let quickchartButtonEl =\n",
              "        document.querySelector('#df-02c56f9f-30b1-4b61-b658-397ea786c70a button');\n",
              "      quickchartButtonEl.style.display =\n",
              "        google.colab.kernel.accessAllowed ? 'block' : 'none';\n",
              "    })();\n",
              "  </script>\n",
              "</div>\n",
              "    </div>\n",
              "  </div>\n"
            ]
          },
          "metadata": {},
          "execution_count": 14
        }
      ]
    },
    {
      "cell_type": "code",
      "source": [
        "def clean(review):\n",
        "\n",
        "    review = review.lower()\n",
        "    review = re.sub('[^a-z A-Z 0-9-]+', '', review) # uklanjanje specijalnih znakova\n",
        "    review = \" \".join([word for word in review.split() if word not in stopwords.words('english')])\n",
        "\n",
        "    return review"
      ],
      "metadata": {
        "id": "o7MMMefOqglB"
      },
      "execution_count": null,
      "outputs": []
    },
    {
      "cell_type": "code",
      "source": [
        "df['Review'] = df['Review'].apply(clean)"
      ],
      "metadata": {
        "id": "oAUH160tqgYi"
      },
      "execution_count": null,
      "outputs": []
    },
    {
      "cell_type": "code",
      "source": [
        "def split_into_words(text):\n",
        "    text_list = text.split()\n",
        "    return text_list\n",
        "\n",
        "df['Review_lists'] = df['Review'].apply(split_into_words)"
      ],
      "metadata": {
        "id": "J4pcTJO2qgVO"
      },
      "execution_count": null,
      "outputs": []
    },
    {
      "cell_type": "code",
      "source": [
        "df.head()"
      ],
      "metadata": {
        "colab": {
          "base_uri": "https://localhost:8080/",
          "height": 206
        },
        "id": "dVtG_6qrqgS6",
        "outputId": "6550c968-15a2-4d9e-92c7-e054bd2bfad0"
      },
      "execution_count": null,
      "outputs": [
        {
          "output_type": "execute_result",
          "data": {
            "text/plain": [
              "                                                                                                Review  \\\n",
              "0  nice hotel expensive parking got good deal stay hotel anniversary arrived late evening took advi...   \n",
              "1  ok nothing special charge diamond member hilton decided chain shot 20th anniversary seattle star...   \n",
              "2  nice rooms 4 experience hotel monaco seattle good hotel nt 4 levelpositives large bathroom medit...   \n",
              "3  unique great stay wonderful time hotel monaco location excellent short stroll main downtown shop...   \n",
              "4  great stay great stay went seahawk game awesome downfall view building nt complain room huge sta...   \n",
              "\n",
              "   Rating  \\\n",
              "0       4   \n",
              "1       2   \n",
              "2       3   \n",
              "3       5   \n",
              "4       5   \n",
              "\n",
              "                                                                                          Review_lists  \n",
              "0  [nice, hotel, expensive, parking, got, good, deal, stay, hotel, anniversary, arrived, late, even...  \n",
              "1  [ok, nothing, special, charge, diamond, member, hilton, decided, chain, shot, 20th, anniversary,...  \n",
              "2  [nice, rooms, 4, experience, hotel, monaco, seattle, good, hotel, nt, 4, levelpositives, large, ...  \n",
              "3  [unique, great, stay, wonderful, time, hotel, monaco, location, excellent, short, stroll, main, ...  \n",
              "4  [great, stay, great, stay, went, seahawk, game, awesome, downfall, view, building, nt, complain,...  "
            ],
            "text/html": [
              "\n",
              "  <div id=\"df-fe1c3647-2ef4-4012-8087-24c1613a5a84\" class=\"colab-df-container\">\n",
              "    <div>\n",
              "<style scoped>\n",
              "    .dataframe tbody tr th:only-of-type {\n",
              "        vertical-align: middle;\n",
              "    }\n",
              "\n",
              "    .dataframe tbody tr th {\n",
              "        vertical-align: top;\n",
              "    }\n",
              "\n",
              "    .dataframe thead th {\n",
              "        text-align: right;\n",
              "    }\n",
              "</style>\n",
              "<table border=\"1\" class=\"dataframe\">\n",
              "  <thead>\n",
              "    <tr style=\"text-align: right;\">\n",
              "      <th></th>\n",
              "      <th>Review</th>\n",
              "      <th>Rating</th>\n",
              "      <th>Review_lists</th>\n",
              "    </tr>\n",
              "  </thead>\n",
              "  <tbody>\n",
              "    <tr>\n",
              "      <th>0</th>\n",
              "      <td>nice hotel expensive parking got good deal stay hotel anniversary arrived late evening took advi...</td>\n",
              "      <td>4</td>\n",
              "      <td>[nice, hotel, expensive, parking, got, good, deal, stay, hotel, anniversary, arrived, late, even...</td>\n",
              "    </tr>\n",
              "    <tr>\n",
              "      <th>1</th>\n",
              "      <td>ok nothing special charge diamond member hilton decided chain shot 20th anniversary seattle star...</td>\n",
              "      <td>2</td>\n",
              "      <td>[ok, nothing, special, charge, diamond, member, hilton, decided, chain, shot, 20th, anniversary,...</td>\n",
              "    </tr>\n",
              "    <tr>\n",
              "      <th>2</th>\n",
              "      <td>nice rooms 4 experience hotel monaco seattle good hotel nt 4 levelpositives large bathroom medit...</td>\n",
              "      <td>3</td>\n",
              "      <td>[nice, rooms, 4, experience, hotel, monaco, seattle, good, hotel, nt, 4, levelpositives, large, ...</td>\n",
              "    </tr>\n",
              "    <tr>\n",
              "      <th>3</th>\n",
              "      <td>unique great stay wonderful time hotel monaco location excellent short stroll main downtown shop...</td>\n",
              "      <td>5</td>\n",
              "      <td>[unique, great, stay, wonderful, time, hotel, monaco, location, excellent, short, stroll, main, ...</td>\n",
              "    </tr>\n",
              "    <tr>\n",
              "      <th>4</th>\n",
              "      <td>great stay great stay went seahawk game awesome downfall view building nt complain room huge sta...</td>\n",
              "      <td>5</td>\n",
              "      <td>[great, stay, great, stay, went, seahawk, game, awesome, downfall, view, building, nt, complain,...</td>\n",
              "    </tr>\n",
              "  </tbody>\n",
              "</table>\n",
              "</div>\n",
              "    <div class=\"colab-df-buttons\">\n",
              "\n",
              "  <div class=\"colab-df-container\">\n",
              "    <button class=\"colab-df-convert\" onclick=\"convertToInteractive('df-fe1c3647-2ef4-4012-8087-24c1613a5a84')\"\n",
              "            title=\"Convert this dataframe to an interactive table.\"\n",
              "            style=\"display:none;\">\n",
              "\n",
              "  <svg xmlns=\"http://www.w3.org/2000/svg\" height=\"24px\" viewBox=\"0 -960 960 960\">\n",
              "    <path d=\"M120-120v-720h720v720H120Zm60-500h600v-160H180v160Zm220 220h160v-160H400v160Zm0 220h160v-160H400v160ZM180-400h160v-160H180v160Zm440 0h160v-160H620v160ZM180-180h160v-160H180v160Zm440 0h160v-160H620v160Z\"/>\n",
              "  </svg>\n",
              "    </button>\n",
              "\n",
              "  <style>\n",
              "    .colab-df-container {\n",
              "      display:flex;\n",
              "      gap: 12px;\n",
              "    }\n",
              "\n",
              "    .colab-df-convert {\n",
              "      background-color: #E8F0FE;\n",
              "      border: none;\n",
              "      border-radius: 50%;\n",
              "      cursor: pointer;\n",
              "      display: none;\n",
              "      fill: #1967D2;\n",
              "      height: 32px;\n",
              "      padding: 0 0 0 0;\n",
              "      width: 32px;\n",
              "    }\n",
              "\n",
              "    .colab-df-convert:hover {\n",
              "      background-color: #E2EBFA;\n",
              "      box-shadow: 0px 1px 2px rgba(60, 64, 67, 0.3), 0px 1px 3px 1px rgba(60, 64, 67, 0.15);\n",
              "      fill: #174EA6;\n",
              "    }\n",
              "\n",
              "    .colab-df-buttons div {\n",
              "      margin-bottom: 4px;\n",
              "    }\n",
              "\n",
              "    [theme=dark] .colab-df-convert {\n",
              "      background-color: #3B4455;\n",
              "      fill: #D2E3FC;\n",
              "    }\n",
              "\n",
              "    [theme=dark] .colab-df-convert:hover {\n",
              "      background-color: #434B5C;\n",
              "      box-shadow: 0px 1px 3px 1px rgba(0, 0, 0, 0.15);\n",
              "      filter: drop-shadow(0px 1px 2px rgba(0, 0, 0, 0.3));\n",
              "      fill: #FFFFFF;\n",
              "    }\n",
              "  </style>\n",
              "\n",
              "    <script>\n",
              "      const buttonEl =\n",
              "        document.querySelector('#df-fe1c3647-2ef4-4012-8087-24c1613a5a84 button.colab-df-convert');\n",
              "      buttonEl.style.display =\n",
              "        google.colab.kernel.accessAllowed ? 'block' : 'none';\n",
              "\n",
              "      async function convertToInteractive(key) {\n",
              "        const element = document.querySelector('#df-fe1c3647-2ef4-4012-8087-24c1613a5a84');\n",
              "        const dataTable =\n",
              "          await google.colab.kernel.invokeFunction('convertToInteractive',\n",
              "                                                    [key], {});\n",
              "        if (!dataTable) return;\n",
              "\n",
              "        const docLinkHtml = 'Like what you see? Visit the ' +\n",
              "          '<a target=\"_blank\" href=https://colab.research.google.com/notebooks/data_table.ipynb>data table notebook</a>'\n",
              "          + ' to learn more about interactive tables.';\n",
              "        element.innerHTML = '';\n",
              "        dataTable['output_type'] = 'display_data';\n",
              "        await google.colab.output.renderOutput(dataTable, element);\n",
              "        const docLink = document.createElement('div');\n",
              "        docLink.innerHTML = docLinkHtml;\n",
              "        element.appendChild(docLink);\n",
              "      }\n",
              "    </script>\n",
              "  </div>\n",
              "\n",
              "\n",
              "<div id=\"df-d98a61a0-68f2-493c-9057-d001feaedf44\">\n",
              "  <button class=\"colab-df-quickchart\" onclick=\"quickchart('df-d98a61a0-68f2-493c-9057-d001feaedf44')\"\n",
              "            title=\"Suggest charts\"\n",
              "            style=\"display:none;\">\n",
              "\n",
              "<svg xmlns=\"http://www.w3.org/2000/svg\" height=\"24px\"viewBox=\"0 0 24 24\"\n",
              "     width=\"24px\">\n",
              "    <g>\n",
              "        <path d=\"M19 3H5c-1.1 0-2 .9-2 2v14c0 1.1.9 2 2 2h14c1.1 0 2-.9 2-2V5c0-1.1-.9-2-2-2zM9 17H7v-7h2v7zm4 0h-2V7h2v10zm4 0h-2v-4h2v4z\"/>\n",
              "    </g>\n",
              "</svg>\n",
              "  </button>\n",
              "\n",
              "<style>\n",
              "  .colab-df-quickchart {\n",
              "      --bg-color: #E8F0FE;\n",
              "      --fill-color: #1967D2;\n",
              "      --hover-bg-color: #E2EBFA;\n",
              "      --hover-fill-color: #174EA6;\n",
              "      --disabled-fill-color: #AAA;\n",
              "      --disabled-bg-color: #DDD;\n",
              "  }\n",
              "\n",
              "  [theme=dark] .colab-df-quickchart {\n",
              "      --bg-color: #3B4455;\n",
              "      --fill-color: #D2E3FC;\n",
              "      --hover-bg-color: #434B5C;\n",
              "      --hover-fill-color: #FFFFFF;\n",
              "      --disabled-bg-color: #3B4455;\n",
              "      --disabled-fill-color: #666;\n",
              "  }\n",
              "\n",
              "  .colab-df-quickchart {\n",
              "    background-color: var(--bg-color);\n",
              "    border: none;\n",
              "    border-radius: 50%;\n",
              "    cursor: pointer;\n",
              "    display: none;\n",
              "    fill: var(--fill-color);\n",
              "    height: 32px;\n",
              "    padding: 0;\n",
              "    width: 32px;\n",
              "  }\n",
              "\n",
              "  .colab-df-quickchart:hover {\n",
              "    background-color: var(--hover-bg-color);\n",
              "    box-shadow: 0 1px 2px rgba(60, 64, 67, 0.3), 0 1px 3px 1px rgba(60, 64, 67, 0.15);\n",
              "    fill: var(--button-hover-fill-color);\n",
              "  }\n",
              "\n",
              "  .colab-df-quickchart-complete:disabled,\n",
              "  .colab-df-quickchart-complete:disabled:hover {\n",
              "    background-color: var(--disabled-bg-color);\n",
              "    fill: var(--disabled-fill-color);\n",
              "    box-shadow: none;\n",
              "  }\n",
              "\n",
              "  .colab-df-spinner {\n",
              "    border: 2px solid var(--fill-color);\n",
              "    border-color: transparent;\n",
              "    border-bottom-color: var(--fill-color);\n",
              "    animation:\n",
              "      spin 1s steps(1) infinite;\n",
              "  }\n",
              "\n",
              "  @keyframes spin {\n",
              "    0% {\n",
              "      border-color: transparent;\n",
              "      border-bottom-color: var(--fill-color);\n",
              "      border-left-color: var(--fill-color);\n",
              "    }\n",
              "    20% {\n",
              "      border-color: transparent;\n",
              "      border-left-color: var(--fill-color);\n",
              "      border-top-color: var(--fill-color);\n",
              "    }\n",
              "    30% {\n",
              "      border-color: transparent;\n",
              "      border-left-color: var(--fill-color);\n",
              "      border-top-color: var(--fill-color);\n",
              "      border-right-color: var(--fill-color);\n",
              "    }\n",
              "    40% {\n",
              "      border-color: transparent;\n",
              "      border-right-color: var(--fill-color);\n",
              "      border-top-color: var(--fill-color);\n",
              "    }\n",
              "    60% {\n",
              "      border-color: transparent;\n",
              "      border-right-color: var(--fill-color);\n",
              "    }\n",
              "    80% {\n",
              "      border-color: transparent;\n",
              "      border-right-color: var(--fill-color);\n",
              "      border-bottom-color: var(--fill-color);\n",
              "    }\n",
              "    90% {\n",
              "      border-color: transparent;\n",
              "      border-bottom-color: var(--fill-color);\n",
              "    }\n",
              "  }\n",
              "</style>\n",
              "\n",
              "  <script>\n",
              "    async function quickchart(key) {\n",
              "      const quickchartButtonEl =\n",
              "        document.querySelector('#' + key + ' button');\n",
              "      quickchartButtonEl.disabled = true;  // To prevent multiple clicks.\n",
              "      quickchartButtonEl.classList.add('colab-df-spinner');\n",
              "      try {\n",
              "        const charts = await google.colab.kernel.invokeFunction(\n",
              "            'suggestCharts', [key], {});\n",
              "      } catch (error) {\n",
              "        console.error('Error during call to suggestCharts:', error);\n",
              "      }\n",
              "      quickchartButtonEl.classList.remove('colab-df-spinner');\n",
              "      quickchartButtonEl.classList.add('colab-df-quickchart-complete');\n",
              "    }\n",
              "    (() => {\n",
              "      let quickchartButtonEl =\n",
              "        document.querySelector('#df-d98a61a0-68f2-493c-9057-d001feaedf44 button');\n",
              "      quickchartButtonEl.style.display =\n",
              "        google.colab.kernel.accessAllowed ? 'block' : 'none';\n",
              "    })();\n",
              "  </script>\n",
              "</div>\n",
              "    </div>\n",
              "  </div>\n"
            ]
          },
          "metadata": {},
          "execution_count": 18
        }
      ]
    },
    {
      "cell_type": "code",
      "source": [
        "corpus = [word for review_list in df['Review_lists'] for word in review_list]\n",
        "len(corpus)"
      ],
      "metadata": {
        "colab": {
          "base_uri": "https://localhost:8080/"
        },
        "id": "7k56-hs82ZVq",
        "outputId": "663e51b8-b537-4c11-c2ef-0d3967f6ea87"
      },
      "execution_count": null,
      "outputs": [
        {
          "output_type": "execute_result",
          "data": {
            "text/plain": [
              "2060911"
            ]
          },
          "metadata": {},
          "execution_count": 19
        }
      ]
    },
    {
      "cell_type": "code",
      "source": [
        "most_common_words = Counter(corpus).most_common(10)\n",
        "most_common_words"
      ],
      "metadata": {
        "colab": {
          "base_uri": "https://localhost:8080/"
        },
        "id": "IQGpgfM72ZMC",
        "outputId": "484226ef-5609-42a8-be2a-8a392b02972f"
      },
      "execution_count": null,
      "outputs": [
        {
          "output_type": "execute_result",
          "data": {
            "text/plain": [
              "[('hotel', 48844),\n",
              " ('room', 34279),\n",
              " ('great', 21068),\n",
              " ('nt', 18989),\n",
              " ('good', 16953),\n",
              " ('staff', 16193),\n",
              " ('stay', 15142),\n",
              " ('nice', 12393),\n",
              " ('rooms', 12005),\n",
              " ('location', 11009)]"
            ]
          },
          "metadata": {},
          "execution_count": 20
        }
      ]
    },
    {
      "cell_type": "code",
      "source": [
        "words, freq = zip(*most_common_words)"
      ],
      "metadata": {
        "id": "qjC-TIdt2ZJ4"
      },
      "execution_count": null,
      "outputs": []
    },
    {
      "cell_type": "code",
      "source": [
        "sns.barplot(x=list(freq), y=list(words))\n",
        "plt.title('Top 10 najzastupljenijih riječi')\n",
        "plt.show()"
      ],
      "metadata": {
        "colab": {
          "base_uri": "https://localhost:8080/",
          "height": 453
        },
        "id": "J6AwjOQZ2ZHW",
        "outputId": "b41415f7-6eb1-44e8-a332-1ec76131ca5c"
      },
      "execution_count": null,
      "outputs": [
        {
          "output_type": "display_data",
          "data": {
            "text/plain": [
              "<Figure size 640x480 with 1 Axes>"
            ],
            "image/png": "[encoded data removed]"
          },
          "metadata": {}
        }
      ]
    },
    {
      "cell_type": "code",
      "source": [
        "def display_ngram(n, df):\n",
        "  cv = CountVectorizer(ngram_range=(n,n))\n",
        "  n_gram = cv.fit_transform(df['Review'])\n",
        "  count_values = n_gram.toarray().sum(axis=0)\n",
        "  ngram_df = pd.DataFrame(sorted([(count_values[i], k) for k, i in cv.vocabulary_.items()], reverse = True))\n",
        "  ngram_df.columns = [\"frequency\", \"ngram\"]\n",
        "\n",
        "  sns.barplot(x=ngram_df['frequency'][:10], y=ngram_df['ngram'][:10])\n",
        "  plt.title('Top 10 najzastupljenijih n-grama')\n",
        "  plt.show()"
      ],
      "metadata": {
        "id": "VLr-Fska5iei"
      },
      "execution_count": null,
      "outputs": []
    },
    {
      "cell_type": "code",
      "source": [
        "n_gram = display_ngram(3, df)"
      ],
      "metadata": {
        "colab": {
          "base_uri": "https://localhost:8080/",
          "height": 472
        },
        "id": "dMoGiHG65iRl",
        "outputId": "04fd6d34-58a3-45d5-97c7-a0f7a927b732"
      },
      "execution_count": null,
      "outputs": [
        {
          "output_type": "display_data",
          "data": {
            "text/plain": [
              "<Figure size 640x480 with 1 Axes>"
            ],
            "image/png": "[encoded data removed]"
          },
          "metadata": {}
        }
      ]
    },
    {
      "cell_type": "markdown",
      "source": [
        "## Analiza sentimenta sa sekvencijalnim modelima"
      ],
      "metadata": {
        "id": "27Arz4w5otFk"
      }
    },
    {
      "cell_type": "code",
      "source": [
        "import tensorflow as tf\n",
        "from tensorflow.keras.models import Sequential\n",
        "from tensorflow.keras.callbacks import EarlyStopping\n",
        "from tensorflow.keras.layers import Embedding, SimpleRNN, GRU, LSTM, Bidirectional, Dense, Dropout, TextVectorization\n",
        "from tensorflow.keras.optimizers import Adam\n",
        "\n",
        "from sklearn.model_selection import train_test_split\n",
        "from sklearn.metrics import confusion_matrix, classification_report\n",
        "\n",
        "from nltk.stem.snowball import SnowballStemmer"
      ],
      "metadata": {
        "id": "iQdXSsdYdepQ"
      },
      "execution_count": null,
      "outputs": []
    },
    {
      "cell_type": "code",
      "source": [
        "df = pd.read_csv('https://raw.githubusercontent.com/dsabljic/UUI-NLP-u-ugostiteljstvu/master/data/tripadvisor_hotel_reviews.csv')\n",
        "df.head()"
      ],
      "metadata": {
        "colab": {
          "base_uri": "https://localhost:8080/",
          "height": 206
        },
        "id": "O38zIzvV9V23",
        "outputId": "1efcb76a-585c-4cbc-ae22-dda55f8d5150"
      },
      "execution_count": null,
      "outputs": [
        {
          "output_type": "execute_result",
          "data": {
            "text/plain": [
              "                                                                                                Review  \\\n",
              "0  nice hotel expensive parking got good deal stay hotel anniversary, arrived late evening took adv...   \n",
              "1  ok nothing special charge diamond member hilton decided chain shot 20th anniversary seattle, sta...   \n",
              "2  nice rooms not 4* experience hotel monaco seattle good hotel n't 4* level.positives large bathro...   \n",
              "3  unique, great stay, wonderful time hotel monaco, location excellent short stroll main downtown s...   \n",
              "4  great stay great stay, went seahawk game awesome, downfall view building did n't complain, room ...   \n",
              "\n",
              "   Rating  \n",
              "0       4  \n",
              "1       2  \n",
              "2       3  \n",
              "3       5  \n",
              "4       5  "
            ],
            "text/html": [
              "\n",
              "  <div id=\"df-c01f2b1b-9169-42d4-b25b-ecc5538d7b1c\" class=\"colab-df-container\">\n",
              "    <div>\n",
              "<style scoped>\n",
              "    .dataframe tbody tr th:only-of-type {\n",
              "        vertical-align: middle;\n",
              "    }\n",
              "\n",
              "    .dataframe tbody tr th {\n",
              "        vertical-align: top;\n",
              "    }\n",
              "\n",
              "    .dataframe thead th {\n",
              "        text-align: right;\n",
              "    }\n",
              "</style>\n",
              "<table border=\"1\" class=\"dataframe\">\n",
              "  <thead>\n",
              "    <tr style=\"text-align: right;\">\n",
              "      <th></th>\n",
              "      <th>Review</th>\n",
              "      <th>Rating</th>\n",
              "    </tr>\n",
              "  </thead>\n",
              "  <tbody>\n",
              "    <tr>\n",
              "      <th>0</th>\n",
              "      <td>nice hotel expensive parking got good deal stay hotel anniversary, arrived late evening took adv...</td>\n",
              "      <td>4</td>\n",
              "    </tr>\n",
              "    <tr>\n",
              "      <th>1</th>\n",
              "      <td>ok nothing special charge diamond member hilton decided chain shot 20th anniversary seattle, sta...</td>\n",
              "      <td>2</td>\n",
              "    </tr>\n",
              "    <tr>\n",
              "      <th>2</th>\n",
              "      <td>nice rooms not 4* experience hotel monaco seattle good hotel n't 4* level.positives large bathro...</td>\n",
              "      <td>3</td>\n",
              "    </tr>\n",
              "    <tr>\n",
              "      <th>3</th>\n",
              "      <td>unique, great stay, wonderful time hotel monaco, location excellent short stroll main downtown s...</td>\n",
              "      <td>5</td>\n",
              "    </tr>\n",
              "    <tr>\n",
              "      <th>4</th>\n",
              "      <td>great stay great stay, went seahawk game awesome, downfall view building did n't complain, room ...</td>\n",
              "      <td>5</td>\n",
              "    </tr>\n",
              "  </tbody>\n",
              "</table>\n",
              "</div>\n",
              "    <div class=\"colab-df-buttons\">\n",
              "\n",
              "  <div class=\"colab-df-container\">\n",
              "    <button class=\"colab-df-convert\" onclick=\"convertToInteractive('df-c01f2b1b-9169-42d4-b25b-ecc5538d7b1c')\"\n",
              "            title=\"Convert this dataframe to an interactive table.\"\n",
              "            style=\"display:none;\">\n",
              "\n",
              "  <svg xmlns=\"http://www.w3.org/2000/svg\" height=\"24px\" viewBox=\"0 -960 960 960\">\n",
              "    <path d=\"M120-120v-720h720v720H120Zm60-500h600v-160H180v160Zm220 220h160v-160H400v160Zm0 220h160v-160H400v160ZM180-400h160v-160H180v160Zm440 0h160v-160H620v160ZM180-180h160v-160H180v160Zm440 0h160v-160H620v160Z\"/>\n",
              "  </svg>\n",
              "    </button>\n",
              "\n",
              "  <style>\n",
              "    .colab-df-container {\n",
              "      display:flex;\n",
              "      gap: 12px;\n",
              "    }\n",
              "\n",
              "    .colab-df-convert {\n",
              "      background-color: #E8F0FE;\n",
              "      border: none;\n",
              "      border-radius: 50%;\n",
              "      cursor: pointer;\n",
              "      display: none;\n",
              "      fill: #1967D2;\n",
              "      height: 32px;\n",
              "      padding: 0 0 0 0;\n",
              "      width: 32px;\n",
              "    }\n",
              "\n",
              "    .colab-df-convert:hover {\n",
              "      background-color: #E2EBFA;\n",
              "      box-shadow: 0px 1px 2px rgba(60, 64, 67, 0.3), 0px 1px 3px 1px rgba(60, 64, 67, 0.15);\n",
              "      fill: #174EA6;\n",
              "    }\n",
              "\n",
              "    .colab-df-buttons div {\n",
              "      margin-bottom: 4px;\n",
              "    }\n",
              "\n",
              "    [theme=dark] .colab-df-convert {\n",
              "      background-color: #3B4455;\n",
              "      fill: #D2E3FC;\n",
              "    }\n",
              "\n",
              "    [theme=dark] .colab-df-convert:hover {\n",
              "      background-color: #434B5C;\n",
              "      box-shadow: 0px 1px 3px 1px rgba(0, 0, 0, 0.15);\n",
              "      filter: drop-shadow(0px 1px 2px rgba(0, 0, 0, 0.3));\n",
              "      fill: #FFFFFF;\n",
              "    }\n",
              "  </style>\n",
              "\n",
              "    <script>\n",
              "      const buttonEl =\n",
              "        document.querySelector('#df-c01f2b1b-9169-42d4-b25b-ecc5538d7b1c button.colab-df-convert');\n",
              "      buttonEl.style.display =\n",
              "        google.colab.kernel.accessAllowed ? 'block' : 'none';\n",
              "\n",
              "      async function convertToInteractive(key) {\n",
              "        const element = document.querySelector('#df-c01f2b1b-9169-42d4-b25b-ecc5538d7b1c');\n",
              "        const dataTable =\n",
              "          await google.colab.kernel.invokeFunction('convertToInteractive',\n",
              "                                                    [key], {});\n",
              "        if (!dataTable) return;\n",
              "\n",
              "        const docLinkHtml = 'Like what you see? Visit the ' +\n",
              "          '<a target=\"_blank\" href=https://colab.research.google.com/notebooks/data_table.ipynb>data table notebook</a>'\n",
              "          + ' to learn more about interactive tables.';\n",
              "        element.innerHTML = '';\n",
              "        dataTable['output_type'] = 'display_data';\n",
              "        await google.colab.output.renderOutput(dataTable, element);\n",
              "        const docLink = document.createElement('div');\n",
              "        docLink.innerHTML = docLinkHtml;\n",
              "        element.appendChild(docLink);\n",
              "      }\n",
              "    </script>\n",
              "  </div>\n",
              "\n",
              "\n",
              "<div id=\"df-9c7afac0-5d78-45c4-968d-7c352b348044\">\n",
              "  <button class=\"colab-df-quickchart\" onclick=\"quickchart('df-9c7afac0-5d78-45c4-968d-7c352b348044')\"\n",
              "            title=\"Suggest charts\"\n",
              "            style=\"display:none;\">\n",
              "\n",
              "<svg xmlns=\"http://www.w3.org/2000/svg\" height=\"24px\"viewBox=\"0 0 24 24\"\n",
              "     width=\"24px\">\n",
              "    <g>\n",
              "        <path d=\"M19 3H5c-1.1 0-2 .9-2 2v14c0 1.1.9 2 2 2h14c1.1 0 2-.9 2-2V5c0-1.1-.9-2-2-2zM9 17H7v-7h2v7zm4 0h-2V7h2v10zm4 0h-2v-4h2v4z\"/>\n",
              "    </g>\n",
              "</svg>\n",
              "  </button>\n",
              "\n",
              "<style>\n",
              "  .colab-df-quickchart {\n",
              "      --bg-color: #E8F0FE;\n",
              "      --fill-color: #1967D2;\n",
              "      --hover-bg-color: #E2EBFA;\n",
              "      --hover-fill-color: #174EA6;\n",
              "      --disabled-fill-color: #AAA;\n",
              "      --disabled-bg-color: #DDD;\n",
              "  }\n",
              "\n",
              "  [theme=dark] .colab-df-quickchart {\n",
              "      --bg-color: #3B4455;\n",
              "      --fill-color: #D2E3FC;\n",
              "      --hover-bg-color: #434B5C;\n",
              "      --hover-fill-color: #FFFFFF;\n",
              "      --disabled-bg-color: #3B4455;\n",
              "      --disabled-fill-color: #666;\n",
              "  }\n",
              "\n",
              "  .colab-df-quickchart {\n",
              "    background-color: var(--bg-color);\n",
              "    border: none;\n",
              "    border-radius: 50%;\n",
              "    cursor: pointer;\n",
              "    display: none;\n",
              "    fill: var(--fill-color);\n",
              "    height: 32px;\n",
              "    padding: 0;\n",
              "    width: 32px;\n",
              "  }\n",
              "\n",
              "  .colab-df-quickchart:hover {\n",
              "    background-color: var(--hover-bg-color);\n",
              "    box-shadow: 0 1px 2px rgba(60, 64, 67, 0.3), 0 1px 3px 1px rgba(60, 64, 67, 0.15);\n",
              "    fill: var(--button-hover-fill-color);\n",
              "  }\n",
              "\n",
              "  .colab-df-quickchart-complete:disabled,\n",
              "  .colab-df-quickchart-complete:disabled:hover {\n",
              "    background-color: var(--disabled-bg-color);\n",
              "    fill: var(--disabled-fill-color);\n",
              "    box-shadow: none;\n",
              "  }\n",
              "\n",
              "  .colab-df-spinner {\n",
              "    border: 2px solid var(--fill-color);\n",
              "    border-color: transparent;\n",
              "    border-bottom-color: var(--fill-color);\n",
              "    animation:\n",
              "      spin 1s steps(1) infinite;\n",
              "  }\n",
              "\n",
              "  @keyframes spin {\n",
              "    0% {\n",
              "      border-color: transparent;\n",
              "      border-bottom-color: var(--fill-color);\n",
              "      border-left-color: var(--fill-color);\n",
              "    }\n",
              "    20% {\n",
              "      border-color: transparent;\n",
              "      border-left-color: var(--fill-color);\n",
              "      border-top-color: var(--fill-color);\n",
              "    }\n",
              "    30% {\n",
              "      border-color: transparent;\n",
              "      border-left-color: var(--fill-color);\n",
              "      border-top-color: var(--fill-color);\n",
              "      border-right-color: var(--fill-color);\n",
              "    }\n",
              "    40% {\n",
              "      border-color: transparent;\n",
              "      border-right-color: var(--fill-color);\n",
              "      border-top-color: var(--fill-color);\n",
              "    }\n",
              "    60% {\n",
              "      border-color: transparent;\n",
              "      border-right-color: var(--fill-color);\n",
              "    }\n",
              "    80% {\n",
              "      border-color: transparent;\n",
              "      border-right-color: var(--fill-color);\n",
              "      border-bottom-color: var(--fill-color);\n",
              "    }\n",
              "    90% {\n",
              "      border-color: transparent;\n",
              "      border-bottom-color: var(--fill-color);\n",
              "    }\n",
              "  }\n",
              "</style>\n",
              "\n",
              "  <script>\n",
              "    async function quickchart(key) {\n",
              "      const quickchartButtonEl =\n",
              "        document.querySelector('#' + key + ' button');\n",
              "      quickchartButtonEl.disabled = true;  // To prevent multiple clicks.\n",
              "      quickchartButtonEl.classList.add('colab-df-spinner');\n",
              "      try {\n",
              "        const charts = await google.colab.kernel.invokeFunction(\n",
              "            'suggestCharts', [key], {});\n",
              "      } catch (error) {\n",
              "        console.error('Error during call to suggestCharts:', error);\n",
              "      }\n",
              "      quickchartButtonEl.classList.remove('colab-df-spinner');\n",
              "      quickchartButtonEl.classList.add('colab-df-quickchart-complete');\n",
              "    }\n",
              "    (() => {\n",
              "      let quickchartButtonEl =\n",
              "        document.querySelector('#df-9c7afac0-5d78-45c4-968d-7c352b348044 button');\n",
              "      quickchartButtonEl.style.display =\n",
              "        google.colab.kernel.accessAllowed ? 'block' : 'none';\n",
              "    })();\n",
              "  </script>\n",
              "</div>\n",
              "    </div>\n",
              "  </div>\n"
            ]
          },
          "metadata": {},
          "execution_count": 26
        }
      ]
    },
    {
      "cell_type": "code",
      "source": [
        "df['Label'] = df['Rating'].apply(lambda x: 0 if x in [1, 2] else (1 if x == 3 else 2)) # 0 - negativna recenzija, 1 - neutralna, 2 - pozitivna"
      ],
      "metadata": {
        "id": "IyiLvIp59V0n"
      },
      "execution_count": null,
      "outputs": []
    },
    {
      "cell_type": "code",
      "source": [
        "sns.countplot(x='Label', data=df)\n",
        "plt.title('Distribucija pozitivnih, negativnih i neutralnih recenzija')\n",
        "plt.xticks(ticks=[0, 1, 2], labels=['Negativno', 'Neutralno', 'Pozitivno']);"
      ],
      "metadata": {
        "colab": {
          "base_uri": "https://localhost:8080/",
          "height": 472
        },
        "id": "Tc2x5wIxsb8c",
        "outputId": "a985193a-ff2e-4cb5-e140-07fbd00c8a17"
      },
      "execution_count": null,
      "outputs": [
        {
          "output_type": "display_data",
          "data": {
            "text/plain": [
              "<Figure size 640x480 with 1 Axes>"
            ],
            "image/png": "[encoded data removed]"
          },
          "metadata": {}
        }
      ]
    },
    {
      "cell_type": "code",
      "source": [
        "X_train, X_test, y_train, y_test = train_test_split(df[\"Review\"], df[\"Label\"], test_size=0.2, random_state=72)\n",
        "X_train, X_val, y_train, y_val = train_test_split(X_train, y_train, test_size=0.25, random_state=72)"
      ],
      "metadata": {
        "id": "RfqECwu59VyU"
      },
      "execution_count": null,
      "outputs": []
    },
    {
      "cell_type": "code",
      "source": [
        "stop_words = set(stopwords.words('english'))\n",
        "words_to_keep = {'not', 'no', 'nt', 'very'}\n",
        "filtered_stop_words = stop_words - words_to_keep\n",
        "\n",
        "stemmer = SnowballStemmer(\"english\")\n",
        "\n",
        "def custom_preprocessing_sw_removal(text):\n",
        "    # Provjera je li tekst string i pretvaranje u string ako nije\n",
        "    if not isinstance(text, str):\n",
        "        text = str(text)\n",
        "\n",
        "    # Pretvaranje teksta u mala slova\n",
        "    text = text.lower()\n",
        "    # Uklanjanje interpunkcije\n",
        "    text = re.sub(r'[^\\w\\s]', '', text)\n",
        "    # Stemming i uklanjanje stopwordsa osim onih koji utječu na sentiment\n",
        "    text = \" \".join(stemmer.stem(word) for word in text.split() if word not in filtered_stop_words)\n",
        "\n",
        "    return text"
      ],
      "metadata": {
        "id": "xtUlrUtA_2YT"
      },
      "execution_count": null,
      "outputs": []
    },
    {
      "cell_type": "code",
      "source": [
        "X_train = X_train.apply(custom_preprocessing_sw_removal)\n",
        "X_val = X_val.apply(custom_preprocessing_sw_removal)\n",
        "X_test = X_test.apply(custom_preprocessing_sw_removal)"
      ],
      "metadata": {
        "id": "D4GFkOJcA_oX"
      },
      "execution_count": null,
      "outputs": []
    },
    {
      "cell_type": "code",
      "source": [
        "batch_size = 32\n",
        "VOCAB_TOKENS = 5000\n",
        "\n",
        "train_ds = tf.data.Dataset.from_tensor_slices((X_train, y_train)).shuffle(len(X_train)).batch(batch_size).prefetch(tf.data.AUTOTUNE)\n",
        "val_ds = tf.data.Dataset.from_tensor_slices((X_val, y_val)).batch(batch_size).prefetch(tf.data.AUTOTUNE)\n",
        "test_ds = tf.data.Dataset.from_tensor_slices((X_test, y_test)).batch(batch_size).prefetch(tf.data.AUTOTUNE)\n",
        "\n",
        "encoder = tf.keras.layers.TextVectorization(max_tokens=VOCAB_TOKENS)\n",
        "\n",
        "encoder.adapt(train_ds.map(lambda text, labels: text))\n",
        "\n",
        "np.array(encoder.get_vocabulary())[:20]"
      ],
      "metadata": {
        "colab": {
          "base_uri": "https://localhost:8080/"
        },
        "id": "Sy_jh59e_JGG",
        "outputId": "7db7695b-f957-467a-deb8-f27cfdcc7ae7"
      },
      "execution_count": null,
      "outputs": [
        {
          "output_type": "execute_result",
          "data": {
            "text/plain": [
              "array(['', '[UNK]', 'hotel', 'room', 'not', 'stay', 'great', 'nt', 'good',\n",
              "       'staff', 'night', 'locat', 'nice', 'day', 'time', 'no', 'servic',\n",
              "       'clean', 'walk', 'restaur'], dtype='<U14')"
            ]
          },
          "metadata": {},
          "execution_count": 32
        }
      ]
    },
    {
      "cell_type": "code",
      "source": [
        "def plot_metrics(history):\n",
        "    metrics = pd.DataFrame(history.history)\n",
        "    metrics[['accuracy', 'val_accuracy']].plot()\n",
        "    metrics[['loss', 'val_loss']].plot()"
      ],
      "metadata": {
        "id": "VzNJ2qEI_bZI"
      },
      "execution_count": null,
      "outputs": []
    },
    {
      "cell_type": "markdown",
      "source": [
        "### *Vanilla* RNN"
      ],
      "metadata": {
        "id": "xrfdOd7IIU8K"
      }
    },
    {
      "cell_type": "code",
      "source": [
        "rnn_model = Sequential([\n",
        "    encoder,\n",
        "    Embedding(len(encoder.get_vocabulary()), 50, mask_zero = True),\n",
        "    SimpleRNN(32),\n",
        "    Dense(16, activation='relu'),\n",
        "    Dropout(0.5),\n",
        "    Dense(3, activation='softmax')])\n",
        "\n",
        "rnn_model.compile(optimizer=Adam(learning_rate=3e-4), loss='sparse_categorical_crossentropy', metrics=['accuracy'])\n",
        "\n",
        "history = rnn_model.fit(train_ds, epochs=10, validation_data=val_ds, callbacks=[tf.keras.callbacks.EarlyStopping(patience=3, monitor=\"val_accuracy\")])\n",
        "print(f\"\\nFinal val_accuracy: {history.history['val_accuracy'][-1]:.2%}\\n\")\n",
        "\n",
        "plot_metrics(history)"
      ],
      "metadata": {
        "colab": {
          "base_uri": "https://localhost:8080/",
          "height": 1000
        },
        "id": "14bBIUQd_8wl",
        "outputId": "16ed6291-0735-4587-be13-bbb5a7cf8d17"
      },
      "execution_count": null,
      "outputs": [
        {
          "output_type": "stream",
          "name": "stdout",
          "text": [
            "Epoch 1/10\n",
            "385/385 [==============================] - 310s 792ms/step - loss: 0.8606 - accuracy: 0.6399 - val_loss: 0.7400 - val_accuracy: 0.7457\n",
            "Epoch 2/10\n",
            "385/385 [==============================] - 270s 702ms/step - loss: 0.6947 - accuracy: 0.7609 - val_loss: 0.6004 - val_accuracy: 0.7389\n",
            "Epoch 3/10\n",
            "385/385 [==============================] - 257s 667ms/step - loss: 0.5706 - accuracy: 0.7945 - val_loss: 0.4894 - val_accuracy: 0.8231\n",
            "Epoch 4/10\n",
            "385/385 [==============================] - 252s 653ms/step - loss: 0.4705 - accuracy: 0.8194 - val_loss: 0.4661 - val_accuracy: 0.8353\n",
            "Epoch 5/10\n",
            "385/385 [==============================] - 255s 661ms/step - loss: 0.4090 - accuracy: 0.8360 - val_loss: 0.4774 - val_accuracy: 0.8358\n",
            "Epoch 6/10\n",
            "385/385 [==============================] - 254s 661ms/step - loss: 0.3472 - accuracy: 0.8633 - val_loss: 0.4839 - val_accuracy: 0.8248\n",
            "Epoch 7/10\n",
            "385/385 [==============================] - 256s 667ms/step - loss: 0.2953 - accuracy: 0.8764 - val_loss: 0.5543 - val_accuracy: 0.8209\n",
            "Epoch 8/10\n",
            "385/385 [==============================] - 260s 676ms/step - loss: 0.2397 - accuracy: 0.9035 - val_loss: 0.5609 - val_accuracy: 0.8192\n",
            "\n",
            "Final val_accuracy: 81.92%\n",
            "\n"
          ]
        },
        {
          "output_type": "display_data",
          "data": {
            "text/plain": [
              "<Figure size 640x480 with 1 Axes>"
            ],
            "image/png": "[encoded data removed]"
          },
          "metadata": {}
        },
        {
          "output_type": "display_data",
          "data": {
            "text/plain": [
              "<Figure size 640x480 with 1 Axes>"
            ],
            "image/png": "[encoded data removed]"
          },
          "metadata": {}
        }
      ]
    },
    {
      "cell_type": "code",
      "source": [
        "test_loss, test_acc = rnn_model.evaluate(test_ds)\n",
        "\n",
        "print('Test Loss:', test_loss)\n",
        "print('Test Accuracy:', test_acc)"
      ],
      "metadata": {
        "id": "KIDEwmKKRKTI",
        "colab": {
          "base_uri": "https://localhost:8080/"
        },
        "outputId": "cd10fb65-904b-408d-9446-2908ee0893be"
      },
      "execution_count": null,
      "outputs": [
        {
          "output_type": "stream",
          "name": "stdout",
          "text": [
            "129/129 [==============================] - 8s 63ms/step - loss: 0.5715 - accuracy: 0.8104\n",
            "Test Loss: 0.5714691281318665\n",
            "Test Accuracy: 0.8104415535926819\n"
          ]
        }
      ]
    },
    {
      "cell_type": "markdown",
      "source": [
        "### GRU"
      ],
      "metadata": {
        "id": "Ae2fj50Ys6z-"
      }
    },
    {
      "cell_type": "code",
      "source": [
        "gru_model = Sequential([\n",
        "    encoder,\n",
        "    Embedding(len(encoder.get_vocabulary()), 50, mask_zero = True),\n",
        "    GRU(32),\n",
        "    Dense(32, activation='relu', kernel_regularizer=tf.keras.regularizers.l1(0.005)),\n",
        "    Dropout(0.5),\n",
        "    Dense(3, activation='softmax')])\n",
        "\n",
        "gru_model.compile(optimizer=Adam(learning_rate=1e-3), loss='sparse_categorical_crossentropy', metrics=['accuracy'])\n",
        "\n",
        "history = gru_model.fit(train_ds, epochs=10, validation_data=val_ds, callbacks=[tf.keras.callbacks.EarlyStopping(patience=3, monitor=\"val_accuracy\")])\n",
        "print(f\"\\nFinal val_accuracy: {history.history['val_accuracy'][-1]:.2%}\\n\")\n",
        "\n",
        "plot_metrics(history)"
      ],
      "metadata": {
        "colab": {
          "base_uri": "https://localhost:8080/",
          "height": 1000
        },
        "id": "kNrWf6qWP2mC",
        "outputId": "63048b83-8dd8-47fe-9697-f54c60b76581"
      },
      "execution_count": null,
      "outputs": [
        {
          "output_type": "stream",
          "name": "stdout",
          "text": [
            "Epoch 1/10\n",
            "385/385 [==============================] - 43s 96ms/step - loss: 0.9631 - accuracy: 0.7626 - val_loss: 0.5947 - val_accuracy: 0.8304\n",
            "Epoch 2/10\n",
            "385/385 [==============================] - 21s 54ms/step - loss: 0.5562 - accuracy: 0.8359 - val_loss: 0.5198 - val_accuracy: 0.8436\n",
            "Epoch 3/10\n",
            "385/385 [==============================] - 16s 41ms/step - loss: 0.4795 - accuracy: 0.8539 - val_loss: 0.5327 - val_accuracy: 0.8048\n",
            "Epoch 4/10\n",
            "385/385 [==============================] - 14s 37ms/step - loss: 0.4318 - accuracy: 0.8625 - val_loss: 0.5186 - val_accuracy: 0.8380\n",
            "Epoch 5/10\n",
            "385/385 [==============================] - 13s 33ms/step - loss: 0.4030 - accuracy: 0.8685 - val_loss: 0.5003 - val_accuracy: 0.8407\n",
            "\n",
            "Final val_accuracy: 84.07%\n",
            "\n"
          ]
        },
        {
          "output_type": "display_data",
          "data": {
            "text/plain": [
              "<Figure size 640x480 with 1 Axes>"
            ],
            "image/png": "[encoded data removed]"
          },
          "metadata": {}
        },
        {
          "output_type": "display_data",
          "data": {
            "text/plain": [
              "<Figure size 640x480 with 1 Axes>"
            ],
            "image/png": "[encoded data removed]"
          },
          "metadata": {}
        }
      ]
    },
    {
      "cell_type": "code",
      "source": [
        "test_loss, test_acc = gru_model.evaluate(test_ds)\n",
        "\n",
        "print('Test Loss:', test_loss)\n",
        "print('Test Accuracy:', test_acc)"
      ],
      "metadata": {
        "colab": {
          "base_uri": "https://localhost:8080/"
        },
        "id": "9l5hvTL8f_2M",
        "outputId": "1919018d-9baa-4d8f-a0aa-3922a2691cd5"
      },
      "execution_count": null,
      "outputs": [
        {
          "output_type": "stream",
          "name": "stdout",
          "text": [
            "129/129 [==============================] - 2s 13ms/step - loss: 0.5098 - accuracy: 0.8385\n",
            "Test Loss: 0.5097711086273193\n",
            "Test Accuracy: 0.8384972214698792\n"
          ]
        }
      ]
    },
    {
      "cell_type": "markdown",
      "source": [
        "### Dvosmjerna GRU mreža"
      ],
      "metadata": {
        "id": "BtHtpirxV-vP"
      }
    },
    {
      "cell_type": "code",
      "source": [
        "bi_gru_model = tf.keras.models.Sequential([\n",
        "    encoder,\n",
        "    Embedding(len(encoder.get_vocabulary()), 50, mask_zero = True),\n",
        "    Bidirectional(GRU(32)),\n",
        "    Dense(32, activation='relu', kernel_regularizer=tf.keras.regularizers.l1(0.005)),\n",
        "    Dropout(0.4),\n",
        "    Dense(3, activation='softmax')])\n",
        "\n",
        "bi_gru_model.compile(optimizer=Adam(learning_rate=1e-3), loss='sparse_categorical_crossentropy', metrics=['accuracy'])\n",
        "\n",
        "history = bi_gru_model.fit(train_ds, epochs=10, validation_data=val_ds, callbacks=[tf.keras.callbacks.EarlyStopping(patience=3, monitor=\"val_accuracy\")])\n",
        "print(f\"\\nFinal val_accuracy: {history.history['val_accuracy'][-1]:.2%}\\n\")\n",
        "\n",
        "plot_metrics(history)"
      ],
      "metadata": {
        "id": "EifquN8F9um-",
        "colab": {
          "base_uri": "https://localhost:8080/",
          "height": 1000
        },
        "outputId": "a051fa98-0e67-4827-de52-89c4289c3551"
      },
      "execution_count": null,
      "outputs": [
        {
          "output_type": "stream",
          "name": "stdout",
          "text": [
            "Epoch 1/10\n",
            "385/385 [==============================] - 54s 116ms/step - loss: 0.9447 - accuracy: 0.7826 - val_loss: 0.5341 - val_accuracy: 0.8258\n",
            "Epoch 2/10\n",
            "385/385 [==============================] - 27s 70ms/step - loss: 0.4600 - accuracy: 0.8544 - val_loss: 0.4683 - val_accuracy: 0.8348\n",
            "Epoch 3/10\n",
            "385/385 [==============================] - 22s 57ms/step - loss: 0.4044 - accuracy: 0.8676 - val_loss: 0.4482 - val_accuracy: 0.8424\n",
            "Epoch 4/10\n",
            "385/385 [==============================] - 21s 54ms/step - loss: 0.3568 - accuracy: 0.8815 - val_loss: 0.4606 - val_accuracy: 0.8455\n",
            "Epoch 5/10\n",
            "385/385 [==============================] - 19s 49ms/step - loss: 0.3222 - accuracy: 0.8916 - val_loss: 0.4739 - val_accuracy: 0.8455\n",
            "Epoch 6/10\n",
            "385/385 [==============================] - 19s 48ms/step - loss: 0.2890 - accuracy: 0.9082 - val_loss: 0.4738 - val_accuracy: 0.8453\n",
            "Epoch 7/10\n",
            "385/385 [==============================] - 17s 44ms/step - loss: 0.2735 - accuracy: 0.9187 - val_loss: 0.4861 - val_accuracy: 0.8338\n",
            "\n",
            "Final val_accuracy: 83.38%\n",
            "\n"
          ]
        },
        {
          "output_type": "display_data",
          "data": {
            "text/plain": [
              "<Figure size 640x480 with 1 Axes>"
            ],
            "image/png": "[encoded data removed]"
          },
          "metadata": {}
        },
        {
          "output_type": "display_data",
          "data": {
            "text/plain": [
              "<Figure size 640x480 with 1 Axes>"
            ],
            "image/png": "[encoded data removed]"
          },
          "metadata": {}
        }
      ]
    },
    {
      "cell_type": "code",
      "source": [
        "test_loss, test_acc = bi_gru_model.evaluate(test_ds)\n",
        "\n",
        "print('Test Loss:', test_loss)\n",
        "print('Test Accuracy:', test_acc)"
      ],
      "metadata": {
        "colab": {
          "base_uri": "https://localhost:8080/"
        },
        "id": "B-2QrLAMgPy-",
        "outputId": "f87bbae1-fddd-4c5f-8f25-7f4c370a3301"
      },
      "execution_count": null,
      "outputs": [
        {
          "output_type": "stream",
          "name": "stdout",
          "text": [
            "129/129 [==============================] - 2s 15ms/step - loss: 0.5237 - accuracy: 0.8290\n",
            "Test Loss: 0.5236755013465881\n",
            "Test Accuracy: 0.8289826512336731\n"
          ]
        }
      ]
    },
    {
      "cell_type": "markdown",
      "source": [
        "### LSTM"
      ],
      "metadata": {
        "id": "pCnqgJf1jIkj"
      }
    },
    {
      "cell_type": "code",
      "source": [
        "lstm_model = tf.keras.models.Sequential([\n",
        "    encoder,\n",
        "    Embedding(len(encoder.get_vocabulary()), 50, mask_zero = True),\n",
        "    LSTM(64),\n",
        "    Dense(32, activation='relu', kernel_regularizer=tf.keras.regularizers.l1(0.005)),\n",
        "    Dropout(0.5),\n",
        "    Dense(3, activation='softmax')])\n",
        "\n",
        "lstm_model.compile(optimizer=Adam(learning_rate=1e-3), loss='sparse_categorical_crossentropy', metrics=['accuracy'])\n",
        "\n",
        "history = lstm_model.fit(train_ds, epochs=10, validation_data=val_ds, callbacks=[tf.keras.callbacks.EarlyStopping(patience=3, monitor=\"val_accuracy\")])\n",
        "print(f\"\\nFinal val_accuracy: {history.history['val_accuracy'][-1]:.2%}\\n\")\n",
        "\n",
        "plot_metrics(history)"
      ],
      "metadata": {
        "id": "ipp5CioVjIPs",
        "colab": {
          "base_uri": "https://localhost:8080/",
          "height": 1000
        },
        "outputId": "778262a9-fa89-45b1-cf5f-d932ce103296"
      },
      "execution_count": null,
      "outputs": [
        {
          "output_type": "stream",
          "name": "stdout",
          "text": [
            "Epoch 1/10\n",
            "385/385 [==============================] - 45s 102ms/step - loss: 1.0309 - accuracy: 0.7706 - val_loss: 0.6663 - val_accuracy: 0.8214\n",
            "Epoch 2/10\n",
            "385/385 [==============================] - 22s 57ms/step - loss: 0.6104 - accuracy: 0.7769 - val_loss: 0.5861 - val_accuracy: 0.7504\n",
            "Epoch 3/10\n",
            "385/385 [==============================] - 18s 45ms/step - loss: 0.5784 - accuracy: 0.7810 - val_loss: 0.5617 - val_accuracy: 0.7911\n",
            "Epoch 4/10\n",
            "385/385 [==============================] - 14s 36ms/step - loss: 0.4931 - accuracy: 0.8430 - val_loss: 0.5225 - val_accuracy: 0.8353\n",
            "Epoch 5/10\n",
            "385/385 [==============================] - 13s 35ms/step - loss: 0.4517 - accuracy: 0.8564 - val_loss: 0.5307 - val_accuracy: 0.8045\n",
            "Epoch 6/10\n",
            "385/385 [==============================] - 12s 30ms/step - loss: 0.4288 - accuracy: 0.8637 - val_loss: 0.5077 - val_accuracy: 0.8285\n",
            "Epoch 7/10\n",
            "385/385 [==============================] - 11s 29ms/step - loss: 0.3965 - accuracy: 0.8707 - val_loss: 0.5186 - val_accuracy: 0.8387\n",
            "Epoch 8/10\n",
            "385/385 [==============================] - 11s 29ms/step - loss: 0.3697 - accuracy: 0.8766 - val_loss: 0.5465 - val_accuracy: 0.8380\n",
            "Epoch 9/10\n",
            "385/385 [==============================] - 11s 28ms/step - loss: 0.3580 - accuracy: 0.8804 - val_loss: 0.5207 - val_accuracy: 0.8336\n",
            "Epoch 10/10\n",
            "385/385 [==============================] - 11s 27ms/step - loss: 0.3360 - accuracy: 0.8883 - val_loss: 0.5340 - val_accuracy: 0.8426\n",
            "\n",
            "Final val_accuracy: 84.26%\n",
            "\n"
          ]
        },
        {
          "output_type": "display_data",
          "data": {
            "text/plain": [
              "<Figure size 640x480 with 1 Axes>"
            ],
            "image/png": "[encoded data removed]"
          },
          "metadata": {}
        },
        {
          "output_type": "display_data",
          "data": {
            "text/plain": [
              "<Figure size 640x480 with 1 Axes>"
            ],
            "image/png": "[encoded data removed]"
          },
          "metadata": {}
        }
      ]
    },
    {
      "cell_type": "code",
      "source": [
        "test_loss, test_acc = lstm_model.evaluate(test_ds)\n",
        "\n",
        "print('Test Loss:', test_loss)\n",
        "print('Test Accuracy:', test_acc)"
      ],
      "metadata": {
        "colab": {
          "base_uri": "https://localhost:8080/"
        },
        "id": "PrIChbFcgJbb",
        "outputId": "1c73e683-aa24-4170-b977-9b1dbf5d4170"
      },
      "execution_count": null,
      "outputs": [
        {
          "output_type": "stream",
          "name": "stdout",
          "text": [
            "129/129 [==============================] - 1s 10ms/step - loss: 0.5547 - accuracy: 0.8341\n",
            "Test Loss: 0.5547009706497192\n",
            "Test Accuracy: 0.834105908870697\n"
          ]
        }
      ]
    },
    {
      "cell_type": "markdown",
      "source": [
        "### Dvosmjerni LSTM"
      ],
      "metadata": {
        "id": "6_xVnQE719YX"
      }
    },
    {
      "cell_type": "code",
      "source": [
        "bi_lstm_model = tf.keras.models.Sequential([\n",
        "    encoder,\n",
        "    Embedding(len(encoder.get_vocabulary()), 50, mask_zero = True),\n",
        "    Bidirectional(LSTM(64)),\n",
        "    Dense(32, activation='relu', kernel_regularizer=tf.keras.regularizers.l1(0.005)),\n",
        "    Dropout(0.5),\n",
        "    Dense(3, activation='softmax')])\n",
        "\n",
        "bi_lstm_model.compile(optimizer=Adam(learning_rate=1e-3), loss='sparse_categorical_crossentropy', metrics=['accuracy'])\n",
        "\n",
        "history = bi_lstm_model.fit(train_ds, epochs=20, validation_data=val_ds, callbacks=[tf.keras.callbacks.EarlyStopping(patience=5, monitor=\"val_accuracy\")])\n",
        "print(f\"\\nFinal val_accuracy: {history.history['val_accuracy'][-1]:.2%}\\n\")\n",
        "\n",
        "plot_metrics(history)"
      ],
      "metadata": {
        "id": "v-kn6iitjIMT",
        "colab": {
          "base_uri": "https://localhost:8080/",
          "height": 1000
        },
        "outputId": "cd21298c-a17f-438b-8473-47940a39634c"
      },
      "execution_count": null,
      "outputs": [
        {
          "output_type": "stream",
          "name": "stdout",
          "text": [
            "Epoch 1/20\n",
            "385/385 [==============================] - 56s 124ms/step - loss: 1.0329 - accuracy: 0.8013 - val_loss: 0.5119 - val_accuracy: 0.8450\n",
            "Epoch 2/20\n",
            "385/385 [==============================] - 27s 71ms/step - loss: 0.4876 - accuracy: 0.8552 - val_loss: 0.4845 - val_accuracy: 0.8321\n",
            "Epoch 3/20\n",
            "385/385 [==============================] - 24s 61ms/step - loss: 0.4412 - accuracy: 0.8651 - val_loss: 0.4552 - val_accuracy: 0.8533\n",
            "Epoch 4/20\n",
            "385/385 [==============================] - 21s 55ms/step - loss: 0.4447 - accuracy: 0.8639 - val_loss: 0.5167 - val_accuracy: 0.8411\n",
            "Epoch 5/20\n",
            "385/385 [==============================] - 19s 49ms/step - loss: 0.3899 - accuracy: 0.8738 - val_loss: 0.4476 - val_accuracy: 0.8538\n",
            "Epoch 6/20\n",
            "385/385 [==============================] - 19s 48ms/step - loss: 0.3641 - accuracy: 0.8859 - val_loss: 0.4576 - val_accuracy: 0.8533\n",
            "Epoch 7/20\n",
            "385/385 [==============================] - 17s 45ms/step - loss: 0.3240 - accuracy: 0.9013 - val_loss: 0.4762 - val_accuracy: 0.8565\n",
            "Epoch 8/20\n",
            "385/385 [==============================] - 18s 46ms/step - loss: 0.3077 - accuracy: 0.9110 - val_loss: 0.5070 - val_accuracy: 0.8499\n",
            "Epoch 9/20\n",
            "385/385 [==============================] - 18s 47ms/step - loss: 0.2934 - accuracy: 0.9129 - val_loss: 0.5686 - val_accuracy: 0.8553\n",
            "Epoch 10/20\n",
            "385/385 [==============================] - 17s 45ms/step - loss: 0.2747 - accuracy: 0.9248 - val_loss: 0.5362 - val_accuracy: 0.8463\n",
            "Epoch 11/20\n",
            "385/385 [==============================] - 17s 45ms/step - loss: 0.2586 - accuracy: 0.9306 - val_loss: 0.5557 - val_accuracy: 0.8348\n",
            "Epoch 12/20\n",
            "385/385 [==============================] - 17s 43ms/step - loss: 0.2379 - accuracy: 0.9422 - val_loss: 0.6109 - val_accuracy: 0.8446\n",
            "\n",
            "Final val_accuracy: 84.46%\n",
            "\n"
          ]
        },
        {
          "output_type": "display_data",
          "data": {
            "text/plain": [
              "<Figure size 640x480 with 1 Axes>"
            ],
            "image/png": "[encoded data removed]"
          },
          "metadata": {}
        },
        {
          "output_type": "display_data",
          "data": {
            "text/plain": [
              "<Figure size 640x480 with 1 Axes>"
            ],
            "image/png": "[encoded data removed]"
          },
          "metadata": {}
        }
      ]
    },
    {
      "cell_type": "code",
      "source": [
        "test_loss, test_acc = bi_lstm_model.evaluate(test_ds)\n",
        "\n",
        "print('Test Loss:', test_loss)\n",
        "print('Test Accuracy:', test_acc)"
      ],
      "metadata": {
        "id": "gF8WLgscjIA3",
        "colab": {
          "base_uri": "https://localhost:8080/"
        },
        "outputId": "a3ad8f4d-4a58-43c5-e4ef-4e265b4d98d3"
      },
      "execution_count": null,
      "outputs": [
        {
          "output_type": "stream",
          "name": "stdout",
          "text": [
            "129/129 [==============================] - 2s 18ms/step - loss: 0.6569 - accuracy: 0.8368\n",
            "Test Loss: 0.6568777561187744\n",
            "Test Accuracy: 0.8367894887924194\n"
          ]
        }
      ]
    },
    {
      "cell_type": "markdown",
      "source": [
        "### GloVe"
      ],
      "metadata": {
        "id": "w3TBXayUCLbF"
      }
    },
    {
      "cell_type": "code",
      "source": [
        "!wget https://nlp.stanford.edu/data/glove.6B.zip"
      ],
      "metadata": {
        "id": "8fmLYa2bJMoR",
        "colab": {
          "base_uri": "https://localhost:8080/"
        },
        "outputId": "d723a981-0ddd-475b-838c-c47287d337e9"
      },
      "execution_count": null,
      "outputs": [
        {
          "output_type": "stream",
          "name": "stdout",
          "text": [
            "--2024-01-14 12:49:38--  https://nlp.stanford.edu/data/glove.6B.zip\n",
            "Resolving nlp.stanford.edu (nlp.stanford.edu)... 171.64.67.140\n",
            "Connecting to nlp.stanford.edu (nlp.stanford.edu)|171.64.67.140|:443... connected.\n",
            "HTTP request sent, awaiting response... 301 Moved Permanently\n",
            "Location: https://downloads.cs.stanford.edu/nlp/data/glove.6B.zip [following]\n",
            "--2024-01-14 12:49:38--  https://downloads.cs.stanford.edu/nlp/data/glove.6B.zip\n",
            "Resolving downloads.cs.stanford.edu (downloads.cs.stanford.edu)... 171.64.64.22\n",
            "Connecting to downloads.cs.stanford.edu (downloads.cs.stanford.edu)|171.64.64.22|:443... connected.\n",
            "HTTP request sent, awaiting response... 200 OK\n",
            "Length: 862182613 (822M) [application/zip]\n",
            "Saving to: ‘glove.6B.zip’\n",
            "\n",
            "glove.6B.zip        100%[===================>] 822.24M  5.02MB/s    in 2m 39s  \n",
            "\n",
            "2024-01-14 12:52:18 (5.17 MB/s) - ‘glove.6B.zip’ saved [862182613/862182613]\n",
            "\n"
          ]
        }
      ]
    },
    {
      "cell_type": "code",
      "source": [
        "!unzip glove.6B.zip"
      ],
      "metadata": {
        "id": "CIMnctwhJMks",
        "colab": {
          "base_uri": "https://localhost:8080/"
        },
        "outputId": "a45880c2-1cb2-48e3-f3ec-22da4c88d456"
      },
      "execution_count": null,
      "outputs": [
        {
          "output_type": "stream",
          "name": "stdout",
          "text": [
            "Archive:  glove.6B.zip\n",
            "  inflating: glove.6B.50d.txt        \n",
            "  inflating: glove.6B.100d.txt       \n",
            "  inflating: glove.6B.200d.txt       \n",
            "  inflating: glove.6B.300d.txt       \n"
          ]
        }
      ]
    },
    {
      "cell_type": "code",
      "source": [
        "glove_path = './glove.6B.100d.txt'\n",
        "\n",
        "embeddings_index = {}\n",
        "with open(glove_path, 'r', encoding='utf8') as file:\n",
        "    for line in file:\n",
        "        values = line.split()\n",
        "        word = values[0]\n",
        "        vector = np.asarray(values[1:], dtype='float32')\n",
        "        embeddings_index[word] = vector"
      ],
      "metadata": {
        "id": "KlVBR40j0jAH"
      },
      "execution_count": null,
      "outputs": []
    },
    {
      "cell_type": "code",
      "source": [
        "vocab = encoder.get_vocabulary()\n",
        "embedding_dim = 100\n",
        "embedding_matrix = np.zeros((len(vocab), embedding_dim))\n",
        "\n",
        "for i, word in enumerate(vocab):\n",
        "    if word in embeddings_index:\n",
        "        embedding_matrix[i] = embeddings_index[word]\n",
        "    else:\n",
        "        embedding_matrix[i] = np.random.normal(scale=0.6, size=(embedding_dim, ))\n",
        "\n",
        "embedding_layer = tf.keras.layers.Embedding(\n",
        "    input_dim=len(vocab),\n",
        "    output_dim=embedding_dim,\n",
        "    weights=[embedding_matrix],\n",
        "    trainable=False\n",
        ")"
      ],
      "metadata": {
        "id": "YTAsmY030nuq"
      },
      "execution_count": null,
      "outputs": []
    },
    {
      "cell_type": "code",
      "source": [
        "# Prve riječi u vokabularu\n",
        "for i, word in enumerate(vocab):\n",
        "  print(i)\n",
        "  print(word)\n",
        "  if i == 5:\n",
        "    break"
      ],
      "metadata": {
        "colab": {
          "base_uri": "https://localhost:8080/"
        },
        "id": "_Hfy9wNzgPGq",
        "outputId": "c4904bc7-9670-47c9-b411-584d7bb8edec"
      },
      "execution_count": null,
      "outputs": [
        {
          "output_type": "stream",
          "name": "stdout",
          "text": [
            "0\n",
            "\n",
            "1\n",
            "[UNK]\n",
            "2\n",
            "hotel\n",
            "3\n",
            "room\n",
            "4\n",
            "not\n",
            "5\n",
            "stay\n"
          ]
        }
      ]
    },
    {
      "cell_type": "markdown",
      "source": [
        "#### BiLSTM model sa GloVe vektorima"
      ],
      "metadata": {
        "id": "xKWuq_zd3Xmo"
      }
    },
    {
      "cell_type": "code",
      "source": [
        "bi_lstm_model_glove = tf.keras.models.Sequential([\n",
        "    encoder,\n",
        "    embedding_layer,\n",
        "    Bidirectional(LSTM(64)),\n",
        "    Dense(32, activation='relu', kernel_regularizer=tf.keras.regularizers.l1(0.005)),\n",
        "    Dropout(0.5),\n",
        "    Dense(3, activation='softmax')])\n",
        "\n",
        "bi_lstm_model_glove.compile(optimizer=Adam(learning_rate=1e-3), loss='sparse_categorical_crossentropy', metrics=['accuracy'])\n",
        "\n",
        "history = bi_lstm_model_glove.fit(train_ds, epochs=10, validation_data=val_ds, callbacks=[tf.keras.callbacks.EarlyStopping(patience=3, monitor=\"val_accuracy\")])\n",
        "print(f\"\\nFinal val_accuracy: {history.history['val_accuracy'][-1]:.2%}\\n\")\n",
        "\n",
        "plot_metrics(history)"
      ],
      "metadata": {
        "colab": {
          "base_uri": "https://localhost:8080/",
          "height": 1000
        },
        "id": "SIY9iMRauGX8",
        "outputId": "14fbc117-51af-420f-eb7c-bf7bd1d527e5"
      },
      "execution_count": null,
      "outputs": [
        {
          "output_type": "stream",
          "name": "stdout",
          "text": [
            "Epoch 1/10\n",
            "385/385 [==============================] - 18s 37ms/step - loss: 1.1995 - accuracy: 0.7428 - val_loss: 0.6799 - val_accuracy: 0.7677\n",
            "Epoch 2/10\n",
            "385/385 [==============================] - 13s 33ms/step - loss: 0.6355 - accuracy: 0.7918 - val_loss: 0.5802 - val_accuracy: 0.8158\n",
            "Epoch 3/10\n",
            "385/385 [==============================] - 13s 33ms/step - loss: 0.5703 - accuracy: 0.8093 - val_loss: 0.5126 - val_accuracy: 0.8324\n",
            "Epoch 4/10\n",
            "385/385 [==============================] - 13s 33ms/step - loss: 0.5482 - accuracy: 0.8205 - val_loss: 0.5333 - val_accuracy: 0.8133\n",
            "Epoch 5/10\n",
            "385/385 [==============================] - 13s 33ms/step - loss: 0.4988 - accuracy: 0.8333 - val_loss: 0.4878 - val_accuracy: 0.8263\n",
            "Epoch 6/10\n",
            "385/385 [==============================] - 12s 32ms/step - loss: 0.4756 - accuracy: 0.8435 - val_loss: 0.4715 - val_accuracy: 0.8448\n",
            "Epoch 7/10\n",
            "385/385 [==============================] - 13s 32ms/step - loss: 0.4538 - accuracy: 0.8480 - val_loss: 0.4584 - val_accuracy: 0.8480\n",
            "Epoch 8/10\n",
            "385/385 [==============================] - 13s 32ms/step - loss: 0.4355 - accuracy: 0.8531 - val_loss: 0.4436 - val_accuracy: 0.8438\n",
            "Epoch 9/10\n",
            "385/385 [==============================] - 12s 32ms/step - loss: 0.4147 - accuracy: 0.8599 - val_loss: 0.4578 - val_accuracy: 0.8477\n",
            "Epoch 10/10\n",
            "385/385 [==============================] - 12s 32ms/step - loss: 0.3938 - accuracy: 0.8674 - val_loss: 0.4351 - val_accuracy: 0.8497\n",
            "\n",
            "Final val_accuracy: 84.97%\n",
            "\n"
          ]
        },
        {
          "output_type": "display_data",
          "data": {
            "text/plain": [
              "<Figure size 640x480 with 1 Axes>"
            ],
            "image/png": "[encoded data removed]"
          },
          "metadata": {}
        },
        {
          "output_type": "display_data",
          "data": {
            "text/plain": [
              "<Figure size 640x480 with 1 Axes>"
            ],
            "image/png": "[encoded data removed]"
          },
          "metadata": {}
        }
      ]
    },
    {
      "cell_type": "code",
      "source": [
        "test_loss, test_acc = bi_lstm_model_glove.evaluate(test_ds)\n",
        "\n",
        "print('Test Loss:', test_loss)\n",
        "print('Test Accuracy:', test_acc)"
      ],
      "metadata": {
        "colab": {
          "base_uri": "https://localhost:8080/"
        },
        "id": "BieEyIWsuGVG",
        "outputId": "609216df-5557-43be-bbc8-fec6e2b1433e"
      },
      "execution_count": null,
      "outputs": [
        {
          "output_type": "stream",
          "name": "stdout",
          "text": [
            "129/129 [==============================] - 2s 14ms/step - loss: 0.4407 - accuracy: 0.8548\n",
            "Test Loss: 0.4407152533531189\n",
            "Test Accuracy: 0.8548426628112793\n"
          ]
        }
      ]
    },
    {
      "cell_type": "markdown",
      "source": [
        "#### BiGRU model sa GloVe vektorima"
      ],
      "metadata": {
        "id": "5s9dH40U3PzA"
      }
    },
    {
      "cell_type": "code",
      "source": [
        "!mkdir models"
      ],
      "metadata": {
        "id": "Ve6s7YaGdWcs"
      },
      "execution_count": null,
      "outputs": []
    },
    {
      "cell_type": "code",
      "source": [
        "checkpoint_path = \"models/gru_glove.ckpt\"\n",
        "\n",
        "checkpoint = tf.keras.callbacks.ModelCheckpoint(checkpoint_path,\n",
        "                                                monitor=\"val_loss\", mode=\"min\",\n",
        "                                                save_best_only=True,\n",
        "                                                save_weights_only=True,\n",
        "                                                verbose=1)"
      ],
      "metadata": {
        "id": "RRGA-ycNcl79"
      },
      "execution_count": null,
      "outputs": []
    },
    {
      "cell_type": "code",
      "source": [
        "gru_model_glove1 = tf.keras.models.Sequential([\n",
        "    encoder,\n",
        "    embedding_layer,\n",
        "    Bidirectional(GRU(64)),\n",
        "    Dense(32, activation='relu'),\n",
        "    Dropout(0.4),\n",
        "    Dense(3, activation='softmax')])\n",
        "\n",
        "early_stopping = tf.keras.callbacks.EarlyStopping(patience=5, monitor='val_loss')\n",
        "\n",
        "gru_model_glove1.compile(optimizer=Adam(learning_rate=1e-3), loss='sparse_categorical_crossentropy', metrics=['accuracy'])\n",
        "\n",
        "history = gru_model_glove1.fit(train_ds, epochs=25, validation_data=val_ds, callbacks=[early_stopping, checkpoint])\n",
        "print(f\"\\nFinal val_accuracy: {history.history['val_accuracy'][-1]:.2%}\\n\")\n",
        "\n",
        "plot_metrics(history)"
      ],
      "metadata": {
        "id": "4dR1KiMkdu_4",
        "colab": {
          "base_uri": "https://localhost:8080/",
          "height": 1000
        },
        "outputId": "4ea2e18a-05f0-4658-f1a5-d1ffab7cfd7f"
      },
      "execution_count": null,
      "outputs": [
        {
          "output_type": "stream",
          "name": "stdout",
          "text": [
            "Epoch 1/25\n",
            "384/385 [============================>.] - ETA: 0s - loss: 0.6659 - accuracy: 0.7476\n",
            "Epoch 1: val_loss improved from inf to 0.53862, saving model to models/gru_glove.ckpt\n",
            "385/385 [==============================] - 18s 35ms/step - loss: 0.6658 - accuracy: 0.7477 - val_loss: 0.5386 - val_accuracy: 0.8058\n",
            "Epoch 2/25\n",
            "385/385 [==============================] - ETA: 0s - loss: 0.5115 - accuracy: 0.8113\n",
            "Epoch 2: val_loss improved from 0.53862 to 0.43024, saving model to models/gru_glove.ckpt\n",
            "385/385 [==============================] - 12s 32ms/step - loss: 0.5115 - accuracy: 0.8113 - val_loss: 0.4302 - val_accuracy: 0.8392\n",
            "Epoch 3/25\n",
            "383/385 [============================>.] - ETA: 0s - loss: 0.4405 - accuracy: 0.8366\n",
            "Epoch 3: val_loss improved from 0.43024 to 0.42728, saving model to models/gru_glove.ckpt\n",
            "385/385 [==============================] - 12s 31ms/step - loss: 0.4403 - accuracy: 0.8366 - val_loss: 0.4273 - val_accuracy: 0.8341\n",
            "Epoch 4/25\n",
            "384/385 [============================>.] - ETA: 0s - loss: 0.3933 - accuracy: 0.8494\n",
            "Epoch 4: val_loss improved from 0.42728 to 0.38481, saving model to models/gru_glove.ckpt\n",
            "385/385 [==============================] - 12s 32ms/step - loss: 0.3933 - accuracy: 0.8494 - val_loss: 0.3848 - val_accuracy: 0.8499\n",
            "Epoch 5/25\n",
            "383/385 [============================>.] - ETA: 0s - loss: 0.3705 - accuracy: 0.8602\n",
            "Epoch 5: val_loss improved from 0.38481 to 0.37750, saving model to models/gru_glove.ckpt\n",
            "385/385 [==============================] - 12s 32ms/step - loss: 0.3704 - accuracy: 0.8600 - val_loss: 0.3775 - val_accuracy: 0.8529\n",
            "Epoch 6/25\n",
            "385/385 [==============================] - ETA: 0s - loss: 0.3433 - accuracy: 0.8672\n",
            "Epoch 6: val_loss did not improve from 0.37750\n",
            "385/385 [==============================] - 12s 32ms/step - loss: 0.3433 - accuracy: 0.8672 - val_loss: 0.3844 - val_accuracy: 0.8526\n",
            "Epoch 7/25\n",
            "383/385 [============================>.] - ETA: 0s - loss: 0.3202 - accuracy: 0.8732\n",
            "Epoch 7: val_loss did not improve from 0.37750\n",
            "385/385 [==============================] - 12s 32ms/step - loss: 0.3198 - accuracy: 0.8734 - val_loss: 0.3911 - val_accuracy: 0.8546\n",
            "Epoch 8/25\n",
            "383/385 [============================>.] - ETA: 0s - loss: 0.3032 - accuracy: 0.8794\n",
            "Epoch 8: val_loss did not improve from 0.37750\n",
            "385/385 [==============================] - 12s 32ms/step - loss: 0.3035 - accuracy: 0.8794 - val_loss: 0.4023 - val_accuracy: 0.8494\n",
            "Epoch 9/25\n",
            "384/385 [============================>.] - ETA: 0s - loss: 0.2792 - accuracy: 0.8874\n",
            "Epoch 9: val_loss did not improve from 0.37750\n",
            "385/385 [==============================] - 12s 32ms/step - loss: 0.2793 - accuracy: 0.8873 - val_loss: 0.3891 - val_accuracy: 0.8482\n",
            "Epoch 10/25\n",
            "385/385 [==============================] - ETA: 0s - loss: 0.2568 - accuracy: 0.8966\n",
            "Epoch 10: val_loss did not improve from 0.37750\n",
            "385/385 [==============================] - 13s 33ms/step - loss: 0.2568 - accuracy: 0.8966 - val_loss: 0.3891 - val_accuracy: 0.8553\n",
            "\n",
            "Final val_accuracy: 85.53%\n",
            "\n"
          ]
        },
        {
          "output_type": "display_data",
          "data": {
            "text/plain": [
              "<Figure size 640x480 with 1 Axes>"
            ],
            "image/png": "[encoded data removed]"
          },
          "metadata": {}
        },
        {
          "output_type": "display_data",
          "data": {
            "text/plain": [
              "<Figure size 640x480 with 1 Axes>"
            ],
            "image/png": "[encoded data removed]"
          },
          "metadata": {}
        }
      ]
    },
    {
      "cell_type": "markdown",
      "source": [
        "#### Evaluacija modela"
      ],
      "metadata": {
        "id": "b_TP28tCvlHq"
      }
    },
    {
      "cell_type": "code",
      "source": [
        "test_loss, test_acc = gru_model_glove1.evaluate(test_ds)\n",
        "\n",
        "print('Test Loss:', test_loss)\n",
        "print('Test Accuracy:', test_acc)"
      ],
      "metadata": {
        "id": "HMyDPSZsdu93",
        "colab": {
          "base_uri": "https://localhost:8080/"
        },
        "outputId": "a93475ea-b44e-44be-c71f-831467f949b4"
      },
      "execution_count": null,
      "outputs": [
        {
          "output_type": "stream",
          "name": "stdout",
          "text": [
            "129/129 [==============================] - 2s 14ms/step - loss: 0.4101 - accuracy: 0.8612\n",
            "Test Loss: 0.4100740849971771\n",
            "Test Accuracy: 0.8611856698989868\n"
          ]
        }
      ]
    },
    {
      "cell_type": "code",
      "source": [
        "y_pred = gru_model_glove1.predict(X_test)\n",
        "y_pred = tf.argmax(y_pred, axis=1).numpy()"
      ],
      "metadata": {
        "colab": {
          "base_uri": "https://localhost:8080/"
        },
        "id": "EhdNSAKbvjXq",
        "outputId": "55e6b170-cfa2-4f17-81f6-8d63b4852dcc"
      },
      "execution_count": null,
      "outputs": [
        {
          "output_type": "stream",
          "name": "stdout",
          "text": [
            "129/129 [==============================] - 3s 17ms/step\n"
          ]
        }
      ]
    },
    {
      "cell_type": "code",
      "source": [
        "# Matrica konfuzije\n",
        "conf_matrix = confusion_matrix(y_test, y_pred)"
      ],
      "metadata": {
        "id": "fskvGdz1vjPc"
      },
      "execution_count": null,
      "outputs": []
    },
    {
      "cell_type": "code",
      "source": [
        "plt.figure(figsize=(10, 8))\n",
        "sns.heatmap(conf_matrix, annot=True, fmt='g', cmap='Blues')\n",
        "plt.xlabel('Predviđene oznake')\n",
        "plt.ylabel('Stvarne oznake')\n",
        "plt.title('Matrica konfuzije')\n",
        "plt.show()"
      ],
      "metadata": {
        "colab": {
          "base_uri": "https://localhost:8080/",
          "height": 718
        },
        "id": "RfUjDabaviqQ",
        "outputId": "25bff0c7-40a3-4f01-8919-cb6c64267a0e"
      },
      "execution_count": null,
      "outputs": [
        {
          "output_type": "display_data",
          "data": {
            "text/plain": [
              "<Figure size 1000x800 with 2 Axes>"
            ],
            "image/png": "[encoded data removed]"
          },
          "metadata": {}
        }
      ]
    },
    {
      "cell_type": "code",
      "source": [
        "report = classification_report(y_test, y_pred, output_dict=True)\n",
        "df_report = pd.DataFrame(report).transpose().round(2)"
      ],
      "metadata": {
        "id": "PAMQ5cU0xflv"
      },
      "execution_count": null,
      "outputs": []
    },
    {
      "cell_type": "code",
      "source": [
        "df_report"
      ],
      "metadata": {
        "colab": {
          "base_uri": "https://localhost:8080/",
          "height": 238
        },
        "id": "4HwvODtgyHxQ",
        "outputId": "65c02cfd-f80f-44a8-c562-4300517fbc96"
      },
      "execution_count": null,
      "outputs": [
        {
          "output_type": "execute_result",
          "data": {
            "text/plain": [
              "              precision  recall  f1-score  support\n",
              "0                  0.81    0.73      0.77   647.00\n",
              "1                  0.53    0.29      0.37   449.00\n",
              "2                  0.89    0.97      0.93  3003.00\n",
              "accuracy           0.86    0.86      0.86     0.86\n",
              "macro avg          0.75    0.67      0.69  4099.00\n",
              "weighted avg       0.84    0.86      0.85  4099.00"
            ],
            "text/html": [
              "\n",
              "  <div id=\"df-4983ff00-c1d8-48d1-98c7-4508f4b15346\" class=\"colab-df-container\">\n",
              "    <div>\n",
              "<style scoped>\n",
              "    .dataframe tbody tr th:only-of-type {\n",
              "        vertical-align: middle;\n",
              "    }\n",
              "\n",
              "    .dataframe tbody tr th {\n",
              "        vertical-align: top;\n",
              "    }\n",
              "\n",
              "    .dataframe thead th {\n",
              "        text-align: right;\n",
              "    }\n",
              "</style>\n",
              "<table border=\"1\" class=\"dataframe\">\n",
              "  <thead>\n",
              "    <tr style=\"text-align: right;\">\n",
              "      <th></th>\n",
              "      <th>precision</th>\n",
              "      <th>recall</th>\n",
              "      <th>f1-score</th>\n",
              "      <th>support</th>\n",
              "    </tr>\n",
              "  </thead>\n",
              "  <tbody>\n",
              "    <tr>\n",
              "      <th>0</th>\n",
              "      <td>0.81</td>\n",
              "      <td>0.73</td>\n",
              "      <td>0.77</td>\n",
              "      <td>647.00</td>\n",
              "    </tr>\n",
              "    <tr>\n",
              "      <th>1</th>\n",
              "      <td>0.53</td>\n",
              "      <td>0.29</td>\n",
              "      <td>0.37</td>\n",
              "      <td>449.00</td>\n",
              "    </tr>\n",
              "    <tr>\n",
              "      <th>2</th>\n",
              "      <td>0.89</td>\n",
              "      <td>0.97</td>\n",
              "      <td>0.93</td>\n",
              "      <td>3003.00</td>\n",
              "    </tr>\n",
              "    <tr>\n",
              "      <th>accuracy</th>\n",
              "      <td>0.86</td>\n",
              "      <td>0.86</td>\n",
              "      <td>0.86</td>\n",
              "      <td>0.86</td>\n",
              "    </tr>\n",
              "    <tr>\n",
              "      <th>macro avg</th>\n",
              "      <td>0.75</td>\n",
              "      <td>0.67</td>\n",
              "      <td>0.69</td>\n",
              "      <td>4099.00</td>\n",
              "    </tr>\n",
              "    <tr>\n",
              "      <th>weighted avg</th>\n",
              "      <td>0.84</td>\n",
              "      <td>0.86</td>\n",
              "      <td>0.85</td>\n",
              "      <td>4099.00</td>\n",
              "    </tr>\n",
              "  </tbody>\n",
              "</table>\n",
              "</div>\n",
              "    <div class=\"colab-df-buttons\">\n",
              "\n",
              "  <div class=\"colab-df-container\">\n",
              "    <button class=\"colab-df-convert\" onclick=\"convertToInteractive('df-4983ff00-c1d8-48d1-98c7-4508f4b15346')\"\n",
              "            title=\"Convert this dataframe to an interactive table.\"\n",
              "            style=\"display:none;\">\n",
              "\n",
              "  <svg xmlns=\"http://www.w3.org/2000/svg\" height=\"24px\" viewBox=\"0 -960 960 960\">\n",
              "    <path d=\"M120-120v-720h720v720H120Zm60-500h600v-160H180v160Zm220 220h160v-160H400v160Zm0 220h160v-160H400v160ZM180-400h160v-160H180v160Zm440 0h160v-160H620v160ZM180-180h160v-160H180v160Zm440 0h160v-160H620v160Z\"/>\n",
              "  </svg>\n",
              "    </button>\n",
              "\n",
              "  <style>\n",
              "    .colab-df-container {\n",
              "      display:flex;\n",
              "      gap: 12px;\n",
              "    }\n",
              "\n",
              "    .colab-df-convert {\n",
              "      background-color: #E8F0FE;\n",
              "      border: none;\n",
              "      border-radius: 50%;\n",
              "      cursor: pointer;\n",
              "      display: none;\n",
              "      fill: #1967D2;\n",
              "      height: 32px;\n",
              "      padding: 0 0 0 0;\n",
              "      width: 32px;\n",
              "    }\n",
              "\n",
              "    .colab-df-convert:hover {\n",
              "      background-color: #E2EBFA;\n",
              "      box-shadow: 0px 1px 2px rgba(60, 64, 67, 0.3), 0px 1px 3px 1px rgba(60, 64, 67, 0.15);\n",
              "      fill: #174EA6;\n",
              "    }\n",
              "\n",
              "    .colab-df-buttons div {\n",
              "      margin-bottom: 4px;\n",
              "    }\n",
              "\n",
              "    [theme=dark] .colab-df-convert {\n",
              "      background-color: #3B4455;\n",
              "      fill: #D2E3FC;\n",
              "    }\n",
              "\n",
              "    [theme=dark] .colab-df-convert:hover {\n",
              "      background-color: #434B5C;\n",
              "      box-shadow: 0px 1px 3px 1px rgba(0, 0, 0, 0.15);\n",
              "      filter: drop-shadow(0px 1px 2px rgba(0, 0, 0, 0.3));\n",
              "      fill: #FFFFFF;\n",
              "    }\n",
              "  </style>\n",
              "\n",
              "    <script>\n",
              "      const buttonEl =\n",
              "        document.querySelector('#df-4983ff00-c1d8-48d1-98c7-4508f4b15346 button.colab-df-convert');\n",
              "      buttonEl.style.display =\n",
              "        google.colab.kernel.accessAllowed ? 'block' : 'none';\n",
              "\n",
              "      async function convertToInteractive(key) {\n",
              "        const element = document.querySelector('#df-4983ff00-c1d8-48d1-98c7-4508f4b15346');\n",
              "        const dataTable =\n",
              "          await google.colab.kernel.invokeFunction('convertToInteractive',\n",
              "                                                    [key], {});\n",
              "        if (!dataTable) return;\n",
              "\n",
              "        const docLinkHtml = 'Like what you see? Visit the ' +\n",
              "          '<a target=\"_blank\" href=https://colab.research.google.com/notebooks/data_table.ipynb>data table notebook</a>'\n",
              "          + ' to learn more about interactive tables.';\n",
              "        element.innerHTML = '';\n",
              "        dataTable['output_type'] = 'display_data';\n",
              "        await google.colab.output.renderOutput(dataTable, element);\n",
              "        const docLink = document.createElement('div');\n",
              "        docLink.innerHTML = docLinkHtml;\n",
              "        element.appendChild(docLink);\n",
              "      }\n",
              "    </script>\n",
              "  </div>\n",
              "\n",
              "\n",
              "<div id=\"df-54bd3072-f618-4770-8618-296ea9e22ea2\">\n",
              "  <button class=\"colab-df-quickchart\" onclick=\"quickchart('df-54bd3072-f618-4770-8618-296ea9e22ea2')\"\n",
              "            title=\"Suggest charts\"\n",
              "            style=\"display:none;\">\n",
              "\n",
              "<svg xmlns=\"http://www.w3.org/2000/svg\" height=\"24px\"viewBox=\"0 0 24 24\"\n",
              "     width=\"24px\">\n",
              "    <g>\n",
              "        <path d=\"M19 3H5c-1.1 0-2 .9-2 2v14c0 1.1.9 2 2 2h14c1.1 0 2-.9 2-2V5c0-1.1-.9-2-2-2zM9 17H7v-7h2v7zm4 0h-2V7h2v10zm4 0h-2v-4h2v4z\"/>\n",
              "    </g>\n",
              "</svg>\n",
              "  </button>\n",
              "\n",
              "<style>\n",
              "  .colab-df-quickchart {\n",
              "      --bg-color: #E8F0FE;\n",
              "      --fill-color: #1967D2;\n",
              "      --hover-bg-color: #E2EBFA;\n",
              "      --hover-fill-color: #174EA6;\n",
              "      --disabled-fill-color: #AAA;\n",
              "      --disabled-bg-color: #DDD;\n",
              "  }\n",
              "\n",
              "  [theme=dark] .colab-df-quickchart {\n",
              "      --bg-color: #3B4455;\n",
              "      --fill-color: #D2E3FC;\n",
              "      --hover-bg-color: #434B5C;\n",
              "      --hover-fill-color: #FFFFFF;\n",
              "      --disabled-bg-color: #3B4455;\n",
              "      --disabled-fill-color: #666;\n",
              "  }\n",
              "\n",
              "  .colab-df-quickchart {\n",
              "    background-color: var(--bg-color);\n",
              "    border: none;\n",
              "    border-radius: 50%;\n",
              "    cursor: pointer;\n",
              "    display: none;\n",
              "    fill: var(--fill-color);\n",
              "    height: 32px;\n",
              "    padding: 0;\n",
              "    width: 32px;\n",
              "  }\n",
              "\n",
              "  .colab-df-quickchart:hover {\n",
              "    background-color: var(--hover-bg-color);\n",
              "    box-shadow: 0 1px 2px rgba(60, 64, 67, 0.3), 0 1px 3px 1px rgba(60, 64, 67, 0.15);\n",
              "    fill: var(--button-hover-fill-color);\n",
              "  }\n",
              "\n",
              "  .colab-df-quickchart-complete:disabled,\n",
              "  .colab-df-quickchart-complete:disabled:hover {\n",
              "    background-color: var(--disabled-bg-color);\n",
              "    fill: var(--disabled-fill-color);\n",
              "    box-shadow: none;\n",
              "  }\n",
              "\n",
              "  .colab-df-spinner {\n",
              "    border: 2px solid var(--fill-color);\n",
              "    border-color: transparent;\n",
              "    border-bottom-color: var(--fill-color);\n",
              "    animation:\n",
              "      spin 1s steps(1) infinite;\n",
              "  }\n",
              "\n",
              "  @keyframes spin {\n",
              "    0% {\n",
              "      border-color: transparent;\n",
              "      border-bottom-color: var(--fill-color);\n",
              "      border-left-color: var(--fill-color);\n",
              "    }\n",
              "    20% {\n",
              "      border-color: transparent;\n",
              "      border-left-color: var(--fill-color);\n",
              "      border-top-color: var(--fill-color);\n",
              "    }\n",
              "    30% {\n",
              "      border-color: transparent;\n",
              "      border-left-color: var(--fill-color);\n",
              "      border-top-color: var(--fill-color);\n",
              "      border-right-color: var(--fill-color);\n",
              "    }\n",
              "    40% {\n",
              "      border-color: transparent;\n",
              "      border-right-color: var(--fill-color);\n",
              "      border-top-color: var(--fill-color);\n",
              "    }\n",
              "    60% {\n",
              "      border-color: transparent;\n",
              "      border-right-color: var(--fill-color);\n",
              "    }\n",
              "    80% {\n",
              "      border-color: transparent;\n",
              "      border-right-color: var(--fill-color);\n",
              "      border-bottom-color: var(--fill-color);\n",
              "    }\n",
              "    90% {\n",
              "      border-color: transparent;\n",
              "      border-bottom-color: var(--fill-color);\n",
              "    }\n",
              "  }\n",
              "</style>\n",
              "\n",
              "  <script>\n",
              "    async function quickchart(key) {\n",
              "      const quickchartButtonEl =\n",
              "        document.querySelector('#' + key + ' button');\n",
              "      quickchartButtonEl.disabled = true;  // To prevent multiple clicks.\n",
              "      quickchartButtonEl.classList.add('colab-df-spinner');\n",
              "      try {\n",
              "        const charts = await google.colab.kernel.invokeFunction(\n",
              "            'suggestCharts', [key], {});\n",
              "      } catch (error) {\n",
              "        console.error('Error during call to suggestCharts:', error);\n",
              "      }\n",
              "      quickchartButtonEl.classList.remove('colab-df-spinner');\n",
              "      quickchartButtonEl.classList.add('colab-df-quickchart-complete');\n",
              "    }\n",
              "    (() => {\n",
              "      let quickchartButtonEl =\n",
              "        document.querySelector('#df-54bd3072-f618-4770-8618-296ea9e22ea2 button');\n",
              "      quickchartButtonEl.style.display =\n",
              "        google.colab.kernel.accessAllowed ? 'block' : 'none';\n",
              "    })();\n",
              "  </script>\n",
              "</div>\n",
              "    </div>\n",
              "  </div>\n"
            ]
          },
          "metadata": {},
          "execution_count": 59
        }
      ]
    },
    {
      "cell_type": "markdown",
      "source": [
        "### Primjer klasifikacije komentara"
      ],
      "metadata": {
        "id": "WO6hFto1iqjx"
      }
    },
    {
      "cell_type": "markdown",
      "source": [
        "Sada možemo definirati model iste strukture kao `gru_model_glove1` i vratiti težine iz epohe s najboljim performansom (najmanji *loss* u ovom slučaju)."
      ],
      "metadata": {
        "id": "VIEXmaCRf0Md"
      }
    },
    {
      "cell_type": "code",
      "source": [
        "gru_model_glove = tf.keras.models.Sequential([\n",
        "    encoder,\n",
        "    embedding_layer,\n",
        "    Bidirectional(GRU(64)),\n",
        "    Dense(32, activation='relu'),\n",
        "    Dropout(0.4),\n",
        "    Dense(3, activation='softmax')])\n",
        "\n",
        "gru_model_glove.compile(optimizer=Adam(learning_rate=1e-3), loss='sparse_categorical_crossentropy', metrics=['accuracy'])"
      ],
      "metadata": {
        "id": "69AIedqVfzTI"
      },
      "execution_count": null,
      "outputs": []
    },
    {
      "cell_type": "code",
      "source": [
        "gru_model_glove.load_weights(checkpoint_path)"
      ],
      "metadata": {
        "colab": {
          "base_uri": "https://localhost:8080/"
        },
        "id": "5jkp32p7gVR7",
        "outputId": "e96bec90-00f3-4d21-9105-f86b6509cd45"
      },
      "execution_count": null,
      "outputs": [
        {
          "output_type": "execute_result",
          "data": {
            "text/plain": [
              "<tensorflow.python.checkpoint.checkpoint.CheckpointLoadStatus at 0x7fedcf00bbb0>"
            ]
          },
          "metadata": {},
          "execution_count": 61
        }
      ]
    },
    {
      "cell_type": "code",
      "source": [
        "test_loss, test_acc = gru_model_glove.evaluate(test_ds)\n",
        "\n",
        "print('Test Loss:', test_loss)\n",
        "print('Test Accuracy:', test_acc)"
      ],
      "metadata": {
        "colab": {
          "base_uri": "https://localhost:8080/"
        },
        "id": "mVDL5i4IgyBa",
        "outputId": "ba59fe70-d2ef-4897-ca89-0d7ecabd9766"
      },
      "execution_count": null,
      "outputs": [
        {
          "output_type": "stream",
          "name": "stdout",
          "text": [
            "129/129 [==============================] - 4s 19ms/step - loss: 0.3823 - accuracy: 0.8529\n",
            "Test Loss: 0.3822999596595764\n",
            "Test Accuracy: 0.8528909683227539\n"
          ]
        }
      ]
    },
    {
      "cell_type": "code",
      "source": [
        "def classify_comment(comment, model):\n",
        "    labels = ['Negative', 'Neutral', 'Positive']\n",
        "    # Ručno pretprocesiranje komentara\n",
        "    preprocessed_comment = custom_preprocessing_sw_removal(comment)\n",
        "    # Pretvaranje u TensorFlow Dataset\n",
        "    ds = tf.data.Dataset.from_tensor_slices([preprocessed_comment])\n",
        "    ds = ds.batch(1)\n",
        "    # Predviđanje\n",
        "    prediction = model.predict(ds)\n",
        "    return labels[np.argmax(prediction)]"
      ],
      "metadata": {
        "id": "D8pn_2l1vw3j"
      },
      "execution_count": null,
      "outputs": []
    },
    {
      "cell_type": "code",
      "source": [
        "comment = \"I was very disappointed with my stay. The room was dirty and the service was unacceptably slow.\"\n",
        "prediction = classify_comment(comment, gru_model_glove)\n",
        "print(f\"Predicted Sentiment: {prediction}\\n\")"
      ],
      "metadata": {
        "colab": {
          "base_uri": "https://localhost:8080/"
        },
        "id": "Pp0rldfKwZvk",
        "outputId": "fff9a9b0-d940-4f18-fee3-b4304532da9d"
      },
      "execution_count": null,
      "outputs": [
        {
          "output_type": "stream",
          "name": "stdout",
          "text": [
            "1/1 [==============================] - 1s 611ms/step\n",
            "Predicted Sentiment: Negative\n",
            "\n"
          ]
        }
      ]
    },
    {
      "cell_type": "code",
      "source": [
        "# Komentari/recenzije\n",
        "positive = [\"This hotel exceeded all my expectations, the staff were incredibly helpful and the location was perfect.\",\n",
        "            \"Absolutely loved my stay here! The rooms were clean, spacious, and well-equipped.\",\n",
        "            \"Fantastic experience! The food was gourmet quality and the service was top-notch.\"]\n",
        "\n",
        "negative = [\"I was very disappointed with my stay. The room was dirty and the service was unacceptably slow.\",\n",
        "            \"Terrible experience. The hotel was noisy, and the staff were rude and unhelpful.\",\n",
        "            \"Not worth the price. The facilities were outdated and the bed was uncomfortable.\"]"
      ],
      "metadata": {
        "id": "pysbLAoXiq7R"
      },
      "execution_count": null,
      "outputs": []
    },
    {
      "cell_type": "code",
      "source": [
        "for comment in positive + negative:\n",
        "    print(f\"Original Comment: {comment}\")\n",
        "    pred = classify_comment(comment, gru_model_glove)\n",
        "    print(f\"Predicted Sentiment: {pred}\\n\")\n",
        "    print()"
      ],
      "metadata": {
        "colab": {
          "base_uri": "https://localhost:8080/"
        },
        "id": "Av6Rt2rIkWpj",
        "outputId": "d29073e7-86b6-46f0-d648-37d8571c8577"
      },
      "execution_count": null,
      "outputs": [
        {
          "output_type": "stream",
          "name": "stdout",
          "text": [
            "Original Comment: This hotel exceeded all my expectations, the staff were incredibly helpful and the location was perfect.\n",
            "1/1 [==============================] - 0s 9ms/step\n",
            "Predicted Sentiment: Positive\n",
            "\n",
            "\n",
            "Original Comment: Absolutely loved my stay here! The rooms were clean, spacious, and well-equipped.\n",
            "1/1 [==============================] - 0s 10ms/step\n",
            "Predicted Sentiment: Positive\n",
            "\n",
            "\n",
            "Original Comment: Fantastic experience! The food was gourmet quality and the service was top-notch.\n",
            "1/1 [==============================] - 0s 11ms/step\n",
            "Predicted Sentiment: Positive\n",
            "\n",
            "\n",
            "Original Comment: I was very disappointed with my stay. The room was dirty and the service was unacceptably slow.\n",
            "1/1 [==============================] - 0s 8ms/step\n",
            "Predicted Sentiment: Negative\n",
            "\n",
            "\n",
            "Original Comment: Terrible experience. The hotel was noisy, and the staff were rude and unhelpful.\n",
            "1/1 [==============================] - 0s 7ms/step\n",
            "Predicted Sentiment: Negative\n",
            "\n",
            "\n",
            "Original Comment: Not worth the price. The facilities were outdated and the bed was uncomfortable.\n",
            "1/1 [==============================] - 0s 10ms/step\n",
            "Predicted Sentiment: Negative\n",
            "\n",
            "\n"
          ]
        }
      ]
    },
    {
      "cell_type": "code",
      "source": [],
      "metadata": {
        "id": "zPfsaab3DvdH"
      },
      "execution_count": null,
      "outputs": []
    }
  ]
}